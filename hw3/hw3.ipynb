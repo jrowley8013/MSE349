{
 "cells": [
  {
   "cell_type": "code",
   "execution_count": 1,
   "id": "accurate-belly",
   "metadata": {},
   "outputs": [],
   "source": [
    "import numpy as np\n",
    "import pandas as pd\n",
    "import matplotlib.pyplot as plt\n",
    "import sklearn.decomposition as skd\n",
    "import sklearn.preprocessing as skp\n",
    "import sklearn.pipeline as skpipe"
   ]
  },
  {
   "cell_type": "code",
   "execution_count": 2,
   "id": "forty-pickup",
   "metadata": {},
   "outputs": [],
   "source": [
    "ff_factors = pd.read_csv('F-F_Research_Data_Factors.CSV', skiprows=3, index_col=0,\n",
    "                           engine='python', parse_dates=True, infer_datetime_format=True)\n",
    "ff_factors = ff_factors.loc[ff_factors.index >= 196311]\n",
    "ff_factors = ff_factors.loc[ff_factors.index <= 201712]\n",
    "portfolio_panel = pd.read_csv('25_Portfolios_5x5.CSV', skiprows=15, index_col=0,\n",
    "                           engine='python', parse_dates=True, infer_datetime_format=True)\n",
    "portfolio_panel = portfolio_panel.loc[portfolio_panel.index >= 196311]\n",
    "portfolio_panel = portfolio_panel.loc[portfolio_panel.index <= 201712]\n",
    "portfolio370_panel = pd.read_csv('370portfolios.csv', skiprows=1, index_col=0,\n",
    "                           engine='python', parse_dates=True, infer_datetime_format=True)\n"
   ]
  },
  {
   "cell_type": "code",
   "execution_count": 4,
   "id": "primary-basketball",
   "metadata": {},
   "outputs": [],
   "source": [
    "ff_factor_panel = ff_factors.to_numpy()\n",
    "portfolio_return_panel = portfolio_panel.to_numpy() / 100 - ff_factor_panel[:, 3:4]/100\n",
    "portfolio370_return_panel = portfolio370_panel.to_numpy() - ff_factor_panel[:, 3:4]/100"
   ]
  },
  {
   "cell_type": "code",
   "execution_count": 5,
   "id": "modern-panama",
   "metadata": {},
   "outputs": [],
   "source": [
    "panel_evals, _ = np.linalg.eigh(portfolio_return_panel.dot(portfolio_return_panel.T))\n",
    "panel_evals = panel_evals[::-1]\n",
    "\n",
    "panel370_evals, _ = np.linalg.eigh(portfolio370_return_panel.dot(portfolio370_return_panel.T))\n",
    "panel370_evals = panel370_evals[::-1]"
   ]
  },
  {
   "cell_type": "code",
   "execution_count": 6,
   "id": "sized-globe",
   "metadata": {},
   "outputs": [
    {
     "data": {
      "text/plain": [
       "[<matplotlib.lines.Line2D at 0x1a1ea869e8>]"
      ]
     },
     "execution_count": 6,
     "metadata": {},
     "output_type": "execute_result"
    },
    {
     "data": {
      "image/png": "[encoded data removed]",
      "text/plain": [
       "<Figure size 432x288 with 1 Axes>"
      ]
     },
     "metadata": {
      "needs_background": "light"
     },
     "output_type": "display_data"
    }
   ],
   "source": [
    "plt.plot(panel_evals[:10])"
   ]
  },
  {
   "cell_type": "code",
   "execution_count": 7,
   "id": "found-heather",
   "metadata": {},
   "outputs": [
    {
     "data": {
      "text/plain": [
       "[<matplotlib.lines.Line2D at 0x1a1f796c88>]"
      ]
     },
     "execution_count": 7,
     "metadata": {},
     "output_type": "execute_result"
    },
    {
     "data": {
      "image/png": "[encoded data removed]",
      "text/plain": [
       "<Figure size 432x288 with 1 Axes>"
      ]
     },
     "metadata": {
      "needs_background": "light"
     },
     "output_type": "display_data"
    }
   ],
   "source": [
    "plt.plot(panel370_evals[:10])"
   ]
  },
  {
   "cell_type": "code",
   "execution_count": 8,
   "id": "decent-affiliation",
   "metadata": {},
   "outputs": [],
   "source": [
    "def ic_1(N,T):\n",
    "    NT = N*T\n",
    "    N_plus_T = N+T\n",
    "    # Make information critea penalties\n",
    "\n",
    "    return np.log(NT/N_plus_T) * N_plus_T/NT\n",
    "\n",
    "def l2_loss(N,T,data_panel, pred_data):\n",
    "    return (1/(N*T))*np.sum(np.square(data_panel - pred_data))\n",
    "\n",
    "def fit_bai_ng(data_panel, K):\n",
    "#     pipe = skpipe.Pipeline([('Standardize', skp.StandardScaler(with_mean=True, with_std=True)),\n",
    "#                             ('Factors', skd.TruncatedSVD(K, algorithm='arpack'))])\n",
    "    pipe = skpipe.Pipeline([('Factors', skd.TruncatedSVD(K, algorithm='arpack'))])\n",
    "\n",
    "    F = pipe.fit_transform(data_panel)\n",
    "    lmbda = np.linalg.lstsq(F,data_panel, rcond=None)[0]\n",
    "#     data_hat_last = pipe.inverse_transform(F)\n",
    "    data_hat_last = F.dot(lmbda)\n",
    "#     assert np.allclose(data_hat_last, F.dot(lmbda)), np.max(np.abs(data_hat_last - F.dot(lmbda)))\n",
    "    return F, lmbda, data_hat_last\n",
    "\n",
    "def bai_ng_ev_criterion(data_panel, ic_func, max_evs=15):\n",
    "    T, N = data_panel.shape\n",
    "    penalized_function_resuls = []\n",
    "    for i in range(1, max_evs + 1):\n",
    "        F, lmbda, pred_panel = fit_bai_ng(data_panel, i)\n",
    "        penalized_function_resuls.append(np.log(l2_loss(N,T,data_panel, pred_panel)) + i*ic_func(N,T))\n",
    "    return penalized_function_resuls\n",
    "\n",
    "def ahn_horenstein_evr(data_panel, max_evs=15):\n",
    "    T, N = data_panel.shape\n",
    "    means = np.mean(data_panel, axis=1, keepdims=True)\n",
    "    evals, _ = np.linalg.eigh(data_panel.dot(data_panel.T) - means.dot(means.T)) \n",
    "    evals = evals[::-1][:max_evs]\n",
    "    ratios = [x / y for x,y in zip(evals[:-1], evals[1:])]\n",
    "    return ratios\n",
    "    \n",
    "def fit_rp_pca(data_panel, K, gamma):\n",
    "    T, N = data_panel.shape\n",
    "#     std_pipe = skpipe.Pipeline([('Standardize', skp.StandardScaler(with_mean=True, with_std=True))])\n",
    "    fit_pipe = skpipe.Pipeline([('loadings', skd.TruncatedSVD(K, algorithm='arpack'))])\n",
    "    \n",
    "    r_bar = np.mean(data_panel, axis=0, keepdims=True)\n",
    "    objective  = (1/(N*T))*data_panel.T.dot(data_panel) + (gamma/T)*r_bar.T.dot(r_bar)\n",
    "    \n",
    "    lmbda = fit_pipe.fit_transform(objective)\n",
    "    print(lmbda.shape, data_panel.shape)\n",
    "    F =  np.linalg.lstsq(lmbda, data_panel.T, rcond=None)[0]\n",
    "    \n",
    "    return F.T, lmbda.T\n"
   ]
  },
  {
   "cell_type": "code",
   "execution_count": 9,
   "id": "informed-modem",
   "metadata": {},
   "outputs": [
    {
     "name": "stdout",
     "output_type": "stream",
     "text": [
      "4\n"
     ]
    },
    {
     "data": {
      "text/plain": [
       "[<matplotlib.lines.Line2D at 0x1a1ec98c50>]"
      ]
     },
     "execution_count": 9,
     "metadata": {},
     "output_type": "execute_result"
    },
    {
     "data": {
      "image/png": "[encoded data removed]",
      "text/plain": [
       "<Figure size 432x288 with 1 Axes>"
      ]
     },
     "metadata": {
      "needs_background": "light"
     },
     "output_type": "display_data"
    }
   ],
   "source": [
    "by_factor_ic = bai_ng_ev_criterion(portfolio_return_panel, ic_1)\n",
    "print(np.argmin(by_factor_ic))\n",
    "plt.plot(by_factor_ic)    "
   ]
  },
  {
   "cell_type": "code",
   "execution_count": 10,
   "id": "verbal-accreditation",
   "metadata": {},
   "outputs": [
    {
     "name": "stdout",
     "output_type": "stream",
     "text": [
      "12\n"
     ]
    },
    {
     "data": {
      "text/plain": [
       "[<matplotlib.lines.Line2D at 0x1082edd68>]"
      ]
     },
     "execution_count": 10,
     "metadata": {},
     "output_type": "execute_result"
    },
    {
     "data": {
      "image/png": "[encoded data removed]",
      "text/plain": [
       "<Figure size 432x288 with 1 Axes>"
      ]
     },
     "metadata": {
      "needs_background": "light"
     },
     "output_type": "display_data"
    }
   ],
   "source": [
    "by_factor_ic = bai_ng_ev_criterion(portfolio370_return_panel, ic_1)\n",
    "print(np.argmin(by_factor_ic))\n",
    "plt.plot(by_factor_ic)"
   ]
  },
  {
   "cell_type": "code",
   "execution_count": 11,
   "id": "silver-comedy",
   "metadata": {},
   "outputs": [
    {
     "data": {
      "text/plain": [
       "[<matplotlib.lines.Line2D at 0x1a1eb689e8>]"
      ]
     },
     "execution_count": 11,
     "metadata": {},
     "output_type": "execute_result"
    },
    {
     "data": {
      "image/png": "[encoded data removed]",
      "text/plain": [
       "<Figure size 432x288 with 1 Axes>"
      ]
     },
     "metadata": {
      "needs_background": "light"
     },
     "output_type": "display_data"
    }
   ],
   "source": [
    "byf_factor_evr = ahn_horenstein_evr(portfolio_return_panel)\n",
    "plt.plot(byf_factor_evr)"
   ]
  },
  {
   "cell_type": "code",
   "execution_count": 12,
   "id": "casual-clarity",
   "metadata": {},
   "outputs": [
    {
     "data": {
      "text/plain": [
       "[<matplotlib.lines.Line2D at 0x1a1ed0b8d0>]"
      ]
     },
     "execution_count": 12,
     "metadata": {},
     "output_type": "execute_result"
    },
    {
     "data": {
      "image/png": "[encoded data removed]",
      "text/plain": [
       "<Figure size 432x288 with 1 Axes>"
      ]
     },
     "metadata": {
      "needs_background": "light"
     },
     "output_type": "display_data"
    }
   ],
   "source": [
    "byf_factor_evr = ahn_horenstein_evr(portfolio370_return_panel)\n",
    "plt.plot(byf_factor_evr)"
   ]
  },
  {
   "cell_type": "markdown",
   "id": "alternative-cosmetic",
   "metadata": {},
   "source": [
    "### 4"
   ]
  },
  {
   "cell_type": "code",
   "execution_count": 13,
   "id": "bronze-county",
   "metadata": {},
   "outputs": [],
   "source": [
    "pca_factors_25, pca_loadings_25, _ = fit_bai_ng(portfolio_return_panel, 3)\n",
    "pca_factors_370, pca_loadings_370, _ = fit_bai_ng(portfolio370_return_panel, 5)"
   ]
  },
  {
   "cell_type": "markdown",
   "id": "lucky-slave",
   "metadata": {},
   "source": [
    "### 5"
   ]
  },
  {
   "cell_type": "code",
   "execution_count": 14,
   "id": "documented-voluntary",
   "metadata": {},
   "outputs": [
    {
     "name": "stdout",
     "output_type": "stream",
     "text": [
      "(25, 3) (650, 25)\n",
      "(370, 5) (650, 370)\n"
     ]
    }
   ],
   "source": [
    "rp_pca_factors_25, rp_pca_loadings_25 = fit_rp_pca(portfolio_return_panel, 3, gamma=20)\n",
    "rp_pca_factors_370, rp_pca_loadings_370 = fit_rp_pca(portfolio370_return_panel, 5, gamma=20)"
   ]
  },
  {
   "cell_type": "markdown",
   "id": "stretch-journal",
   "metadata": {},
   "source": [
    "### 6"
   ]
  },
  {
   "cell_type": "code",
   "execution_count": 15,
   "id": "affecting-transmission",
   "metadata": {
    "scrolled": true
   },
   "outputs": [
    {
     "data": {
      "image/png": "[encoded data removed]",
      "text/plain": [
       "<Figure size 432x288 with 1 Axes>"
      ]
     },
     "metadata": {
      "needs_background": "light"
     },
     "output_type": "display_data"
    },
    {
     "data": {
      "image/png": "[encoded data removed]",
      "text/plain": [
       "<Figure size 432x288 with 1 Axes>"
      ]
     },
     "metadata": {
      "needs_background": "light"
     },
     "output_type": "display_data"
    },
    {
     "data": {
      "image/png": "[encoded data removed]",
      "text/plain": [
       "<Figure size 432x288 with 1 Axes>"
      ]
     },
     "metadata": {
      "needs_background": "light"
     },
     "output_type": "display_data"
    }
   ],
   "source": [
    "for i in range(3):\n",
    "    plt.bar(np.arange(25), pca_loadings_25[i])\n",
    "    plt.show()"
   ]
  },
  {
   "cell_type": "code",
   "execution_count": 16,
   "id": "convertible-flexibility",
   "metadata": {
    "scrolled": true
   },
   "outputs": [
    {
     "data": {
      "image/png": "[encoded data removed]",
      "text/plain": [
       "<Figure size 432x288 with 1 Axes>"
      ]
     },
     "metadata": {
      "needs_background": "light"
     },
     "output_type": "display_data"
    },
    {
     "data": {
      "image/png": "[encoded data removed]",
      "text/plain": [
       "<Figure size 432x288 with 1 Axes>"
      ]
     },
     "metadata": {
      "needs_background": "light"
     },
     "output_type": "display_data"
    },
    {
     "data": {
      "image/png": "[encoded data removed]",
      "text/plain": [
       "<Figure size 432x288 with 1 Axes>"
      ]
     },
     "metadata": {
      "needs_background": "light"
     },
     "output_type": "display_data"
    }
   ],
   "source": [
    "for i in range(3):\n",
    "    plt.bar(np.arange(25), rp_pca_loadings_25[i])\n",
    "    plt.show()"
   ]
  },
  {
   "cell_type": "code",
   "execution_count": 17,
   "id": "judicial-arnold",
   "metadata": {
    "scrolled": true
   },
   "outputs": [
    {
     "data": {
      "image/png": "[encoded data removed]",
      "text/plain": [
       "<Figure size 432x288 with 1 Axes>"
      ]
     },
     "metadata": {
      "needs_background": "light"
     },
     "output_type": "display_data"
    },
    {
     "data": {
      "image/png": "[encoded data removed]",
      "text/plain": [
       "<Figure size 432x288 with 1 Axes>"
      ]
     },
     "metadata": {
      "needs_background": "light"
     },
     "output_type": "display_data"
    },
    {
     "data": {
      "image/png": "[encoded data removed]",
      "text/plain": [
       "<Figure size 432x288 with 1 Axes>"
      ]
     },
     "metadata": {
      "needs_background": "light"
     },
     "output_type": "display_data"
    },
    {
     "data": {
      "image/png": "[encoded data removed]",
      "text/plain": [
       "<Figure size 432x288 with 1 Axes>"
      ]
     },
     "metadata": {
      "needs_background": "light"
     },
     "output_type": "display_data"
    },
    {
     "data": {
      "image/png": "[encoded data removed]",
      "text/plain": [
       "<Figure size 432x288 with 1 Axes>"
      ]
     },
     "metadata": {
      "needs_background": "light"
     },
     "output_type": "display_data"
    }
   ],
   "source": [
    "for i in range(5):\n",
    "    plt.bar(np.linspace(1, 370, 370), pca_loadings_370[i])\n",
    "    plt.show()"
   ]
  },
  {
   "cell_type": "code",
   "execution_count": 18,
   "id": "suited-lover",
   "metadata": {
    "scrolled": true
   },
   "outputs": [
    {
     "data": {
      "image/png": "[encoded data removed]",
      "text/plain": [
       "<Figure size 432x288 with 1 Axes>"
      ]
     },
     "metadata": {
      "needs_background": "light"
     },
     "output_type": "display_data"
    },
    {
     "data": {
      "image/png": "[encoded data removed]",
      "text/plain": [
       "<Figure size 432x288 with 1 Axes>"
      ]
     },
     "metadata": {
      "needs_background": "light"
     },
     "output_type": "display_data"
    },
    {
     "data": {
      "image/png": "[encoded data removed]",
      "text/plain": [
       "<Figure size 432x288 with 1 Axes>"
      ]
     },
     "metadata": {
      "needs_background": "light"
     },
     "output_type": "display_data"
    },
    {
     "data": {
      "image/png": "[encoded data removed]",
      "text/plain": [
       "<Figure size 432x288 with 1 Axes>"
      ]
     },
     "metadata": {
      "needs_background": "light"
     },
     "output_type": "display_data"
    },
    {
     "data": {
      "image/png": "[encoded data removed]",
      "text/plain": [
       "<Figure size 432x288 with 1 Axes>"
      ]
     },
     "metadata": {
      "needs_background": "light"
     },
     "output_type": "display_data"
    }
   ],
   "source": [
    "for i in range(5):\n",
    "    plt.bar(np.linspace(1, 370, 370), rp_pca_loadings_370[i])\n",
    "    plt.show()"
   ]
  },
  {
   "cell_type": "markdown",
   "id": "economic-howard",
   "metadata": {},
   "source": [
    "### 7"
   ]
  },
  {
   "cell_type": "code",
   "execution_count": 19,
   "id": "capable-secretariat",
   "metadata": {},
   "outputs": [],
   "source": [
    "def sharpe(series):\n",
    "    return np.mean(series) / np.std(series)\n",
    "\n",
    "\n",
    "def sharpe_factors(factors_t_n):\n",
    "    mu_f = np.mean(factors_t_n, axis=0, keepdims=True)\n",
    "    return np.sqrt(mu_f.dot(np.linalg.inv(np.cov(factors_t_n.T))).dot(mu_f.T))\n",
    "\n",
    "def markowitz(panel_t_n):\n",
    "    T,N = panel_t_n.shape\n",
    "    mu = np.mean(panel_t_n, axis=0, keepdims=True)\n",
    "    \n",
    "    cov = np.cov(panel_t_n.T)\n",
    "    if N > 1:\n",
    "        return np.linalg.inv(cov).dot(mu.T)\n",
    "    else:\n",
    "        return mu.T / cov\n",
    "\n",
    "def sharpe_of_factors(factors):\n",
    "    portfolio = markowitz(factors)\n",
    "    return sharpe(factors.dot(portfolio))"
   ]
  },
  {
   "cell_type": "code",
   "execution_count": 20,
   "id": "received-denial",
   "metadata": {},
   "outputs": [
    {
     "data": {
      "text/plain": [
       "0.11964372062827071"
      ]
     },
     "execution_count": 20,
     "metadata": {},
     "output_type": "execute_result"
    }
   ],
   "source": [
    "sharpe_of_factors(ff_factor_panel[:,0:1])"
   ]
  },
  {
   "cell_type": "code",
   "execution_count": 21,
   "id": "environmental-bonus",
   "metadata": {},
   "outputs": [
    {
     "data": {
      "text/plain": [
       "(0.20744383051050613, array([[0.2072842]]))"
      ]
     },
     "execution_count": 21,
     "metadata": {},
     "output_type": "execute_result"
    }
   ],
   "source": [
    "sharpe_of_factors(ff_factor_panel[:,0:3]),  sharpe_factors(ff_factor_panel[:,0:3])"
   ]
  },
  {
   "cell_type": "code",
   "execution_count": 22,
   "id": "artistic-barrel",
   "metadata": {},
   "outputs": [
    {
     "data": {
      "text/plain": [
       "(0.22056404712737923, array([[0.22039432]]))"
      ]
     },
     "execution_count": 22,
     "metadata": {},
     "output_type": "execute_result"
    }
   ],
   "source": [
    "sharpe_of_factors(pca_factors_25),  sharpe_factors(pca_factors_25)"
   ]
  },
  {
   "cell_type": "code",
   "execution_count": 23,
   "id": "needed-cookbook",
   "metadata": {},
   "outputs": [
    {
     "data": {
      "text/plain": [
       "(0.22205052342317022, array([[0.22187965]]))"
      ]
     },
     "execution_count": 23,
     "metadata": {},
     "output_type": "execute_result"
    }
   ],
   "source": [
    "sharpe_of_factors(rp_pca_factors_25),  sharpe_factors(rp_pca_factors_25)"
   ]
  },
  {
   "cell_type": "code",
   "execution_count": 24,
   "id": "alive-aluminum",
   "metadata": {},
   "outputs": [
    {
     "data": {
      "text/plain": [
       "(0.2696999179073332, array([[0.26949238]]))"
      ]
     },
     "execution_count": 24,
     "metadata": {},
     "output_type": "execute_result"
    }
   ],
   "source": [
    "sharpe_of_factors(pca_factors_370),  sharpe_factors(pca_factors_370)"
   ]
  },
  {
   "cell_type": "code",
   "execution_count": 25,
   "id": "anonymous-pocket",
   "metadata": {},
   "outputs": [
    {
     "data": {
      "text/plain": [
       "(0.5776785637533003, array([[0.57723402]]))"
      ]
     },
     "execution_count": 25,
     "metadata": {},
     "output_type": "execute_result"
    }
   ],
   "source": [
    "sharpe_of_factors(rp_pca_factors_370),  sharpe_factors(rp_pca_factors_370)"
   ]
  },
  {
   "cell_type": "markdown",
   "id": "outstanding-angel",
   "metadata": {},
   "source": [
    "###  8"
   ]
  },
  {
   "cell_type": "code",
   "execution_count": null,
   "id": "about-microphone",
   "metadata": {},
   "outputs": [],
   "source": []
  },
  {
   "cell_type": "code",
   "execution_count": 42,
   "id": "curious-jaguar",
   "metadata": {},
   "outputs": [],
   "source": [
    "def time_series_ap_test(factors, test_assets):\n",
    "    T, N = test_assets.shape\n",
    "    _, K = factors.shape\n",
    "    ones_T = np.ones((T,1))\n",
    "    loadings = np.linalg.lstsq(np.concatenate([ones_T, factors], axis=1),\n",
    "                    test_assets, rcond=None)[0]\n",
    "    alphas = loadings[0:1, :]\n",
    "    betas = loadings[1:, :]\n",
    "    \n",
    "    residuals = test_assets - np.concatenate([ones_T, factors], axis=1).dot(loadings)\n",
    "    mu_t = np.mean(factors, axis=0, keepdims=True)\n",
    "    omega = (1/T)*sum([(factors[t:t+1,:] - mu_t).T.dot(factors[t:t+1,:] - mu_t) for t in range(T)])\n",
    "    \n",
    "    sigma_hat = (1/T)*(sum([residuals[t:t+1].T.dot(residuals[t:t+1]) for t in range(T)])) * np.eye(N)\n",
    "    \n",
    "    fscore = ((T - N - K) / N) * (1/(1 + mu_t.dot(np.linalg.inv(omega)).dot(mu_t.T))) * \\\n",
    "        (alphas.dot(np.linalg.inv(sigma_hat)).dot(alphas.T))\n",
    "    return fscore, N, T - N - K\n",
    "    "
   ]
  },
  {
   "cell_type": "code",
   "execution_count": 43,
   "id": "accepted-stanley",
   "metadata": {},
   "outputs": [],
   "source": [
    "from scipy.stats import f"
   ]
  },
  {
   "cell_type": "code",
   "execution_count": 44,
   "id": "closing-enhancement",
   "metadata": {},
   "outputs": [
    {
     "data": {
      "text/plain": [
       "(array([[5.68725613]]), 25, 624, array([[3.33066907e-16]]))"
      ]
     },
     "execution_count": 44,
     "metadata": {},
     "output_type": "execute_result"
    }
   ],
   "source": [
    "score, df1, df2 = time_series_ap_test(ff_factor_panel[:,0:1], portfolio_return_panel)\n",
    "rv = f(df1, df2)\n",
    "score, df1, df2, 1-rv.cdf(score)"
   ]
  },
  {
   "cell_type": "code",
   "execution_count": 45,
   "id": "recovered-location",
   "metadata": {},
   "outputs": [
    {
     "data": {
      "text/plain": [
       "(array([[3.75673987]]), 25, 622, array([[4.06756739e-09]]))"
      ]
     },
     "execution_count": 45,
     "metadata": {},
     "output_type": "execute_result"
    }
   ],
   "source": [
    "score, df1, df2 = time_series_ap_test(ff_factor_panel[:,0:3], portfolio_return_panel)\n",
    "rv = f(df1, df2)\n",
    "score, df1, df2, 1-rv.cdf(score)"
   ]
  },
  {
   "cell_type": "code",
   "execution_count": 46,
   "id": "black-correlation",
   "metadata": {},
   "outputs": [
    {
     "data": {
      "text/plain": [
       "(array([[4.56430073]]), 25, 622, array([[4.61397587e-12]]))"
      ]
     },
     "execution_count": 46,
     "metadata": {},
     "output_type": "execute_result"
    }
   ],
   "source": [
    "score, df1, df2 = time_series_ap_test(pca_factors_25, portfolio_return_panel)\n",
    "rv = f(df1, df2)\n",
    "score, df1, df2, 1-rv.cdf(score)"
   ]
  },
  {
   "cell_type": "code",
   "execution_count": 47,
   "id": "injured-translation",
   "metadata": {},
   "outputs": [
    {
     "data": {
      "text/plain": [
       "(array([[4.52939293]]), 25, 622, array([[6.20403728e-12]]))"
      ]
     },
     "execution_count": 47,
     "metadata": {},
     "output_type": "execute_result"
    }
   ],
   "source": [
    "score, df1, df2 = time_series_ap_test(rp_pca_factors_25, portfolio_return_panel)\n",
    "rv = f(df1, df2)\n",
    "score, df1, df2, 1-rv.cdf(score)"
   ]
  },
  {
   "cell_type": "code",
   "execution_count": null,
   "id": "based-devices",
   "metadata": {},
   "outputs": [],
   "source": []
  },
  {
   "cell_type": "code",
   "execution_count": 48,
   "id": "flying-banking",
   "metadata": {},
   "outputs": [
    {
     "data": {
      "text/plain": [
       "(array([[1.68784191]]), 370, 275, array([[2.60111561e-06]]))"
      ]
     },
     "execution_count": 48,
     "metadata": {},
     "output_type": "execute_result"
    }
   ],
   "source": [
    "score, df1, df2 = time_series_ap_test(pca_factors_370, portfolio370_return_panel)\n",
    "rv = f(df1, df2)\n",
    "score, df1, df2, 1-rv.cdf(score)"
   ]
  },
  {
   "cell_type": "code",
   "execution_count": 49,
   "id": "interpreted-quantity",
   "metadata": {},
   "outputs": [
    {
     "data": {
      "text/plain": [
       "(array([[1.26146802]]), 370, 275, array([[0.02058288]]))"
      ]
     },
     "execution_count": 49,
     "metadata": {},
     "output_type": "execute_result"
    }
   ],
   "source": [
    "score, df1, df2 = time_series_ap_test(rp_pca_factors_370, portfolio370_return_panel)\n",
    "rv = f(df1, df2)\n",
    "score, df1, df2, 1 - rv.cdf(score)"
   ]
  },
  {
   "cell_type": "markdown",
   "id": "collective-assurance",
   "metadata": {},
   "source": [
    "###  9"
   ]
  },
  {
   "cell_type": "code",
   "execution_count": 68,
   "id": "engaging-guest",
   "metadata": {},
   "outputs": [],
   "source": [
    "def xs_ap_test(factors, test_assets):\n",
    "    T, N = test_assets.shape\n",
    "    _, K = factors.shape\n",
    "    ones_T = np.ones((T,1))\n",
    "    loadings = np.linalg.lstsq(np.concatenate([ones_T, factors], axis=1),\n",
    "                    test_assets, rcond=None)[0]\n",
    "    a_s = loadings[0:1, :]\n",
    "    betas = loadings[1:, :]\n",
    "    \n",
    "    Sigma_F = np.cov(factors.T)\n",
    "\n",
    "    expected_returns = np.mean(test_assets, axis=0)\n",
    "    ones_N = np.ones((N,1))\n",
    "    lambdas = np.linalg.lstsq(betas.T, expected_returns.T, rcond=None)[0]\n",
    "    alphas = expected_returns.T - betas.T.dot(lambdas)\n",
    "    print(np.linalg.norm(alphas))\n",
    "    \n",
    "    Sigma = np.eye(N) * alphas.dot(alphas.T)\n",
    "    \n",
    "    in_minus_beta = np.eye(N) - betas.T.dot(np.linalg.inv(betas.dot(betas.T))).dot(betas)\n",
    "    \n",
    "    shanken_correction = 1 + lambdas.T.dot(np.linalg.inv(Sigma_F)).dot(lambdas)\n",
    "    \n",
    "    cov_alpha = (1/T) * in_minus_beta.dot(Sigma).dot(in_minus_beta.T) * shanken_correction\n",
    "    score = alphas.T.dot(cov_alpha).dot(alphas)\n",
    "    return score, N - 1\n",
    "    "
   ]
  },
  {
   "cell_type": "code",
   "execution_count": 52,
   "id": "complicated-beaver",
   "metadata": {},
   "outputs": [],
   "source": [
    "from scipy.stats.distributions import chi2"
   ]
  },
  {
   "cell_type": "code",
   "execution_count": 53,
   "id": "verified-bread",
   "metadata": {},
   "outputs": [
    {
     "name": "stdout",
     "output_type": "stream",
     "text": [
      "0.012470604237683959\n"
     ]
    },
    {
     "ename": "LinAlgError",
     "evalue": "0-dimensional array given. Array must be at least two-dimensional",
     "output_type": "error",
     "traceback": [
      "\u001b[0;31m---------------------------------------------------------------------------\u001b[0m",
      "\u001b[0;31mLinAlgError\u001b[0m                               Traceback (most recent call last)",
      "\u001b[0;32m<ipython-input-53-6601a7bfd920>\u001b[0m in \u001b[0;36m<module>\u001b[0;34m\u001b[0m\n\u001b[0;32m----> 1\u001b[0;31m \u001b[0mxs_ap_test\u001b[0m\u001b[0;34m(\u001b[0m\u001b[0mff_factor_panel\u001b[0m\u001b[0;34m[\u001b[0m\u001b[0;34m:\u001b[0m\u001b[0;34m,\u001b[0m\u001b[0;36m0\u001b[0m\u001b[0;34m:\u001b[0m\u001b[0;36m1\u001b[0m\u001b[0;34m]\u001b[0m\u001b[0;34m,\u001b[0m \u001b[0mportfolio_return_panel\u001b[0m\u001b[0;34m)\u001b[0m\u001b[0;34m\u001b[0m\u001b[0;34m\u001b[0m\u001b[0m\n\u001b[0m",
      "\u001b[0;32m<ipython-input-51-e867f636dd5b>\u001b[0m in \u001b[0;36mxs_ap_test\u001b[0;34m(factors, test_assets)\u001b[0m\n\u001b[1;32m     20\u001b[0m     \u001b[0min_minus_beta\u001b[0m \u001b[0;34m=\u001b[0m \u001b[0mnp\u001b[0m\u001b[0;34m.\u001b[0m\u001b[0meye\u001b[0m\u001b[0;34m(\u001b[0m\u001b[0mN\u001b[0m\u001b[0;34m)\u001b[0m \u001b[0;34m-\u001b[0m \u001b[0mbetas\u001b[0m\u001b[0;34m.\u001b[0m\u001b[0mT\u001b[0m\u001b[0;34m.\u001b[0m\u001b[0mdot\u001b[0m\u001b[0;34m(\u001b[0m\u001b[0mnp\u001b[0m\u001b[0;34m.\u001b[0m\u001b[0mlinalg\u001b[0m\u001b[0;34m.\u001b[0m\u001b[0minv\u001b[0m\u001b[0;34m(\u001b[0m\u001b[0mbetas\u001b[0m\u001b[0;34m.\u001b[0m\u001b[0mdot\u001b[0m\u001b[0;34m(\u001b[0m\u001b[0mbetas\u001b[0m\u001b[0;34m.\u001b[0m\u001b[0mT\u001b[0m\u001b[0;34m)\u001b[0m\u001b[0;34m)\u001b[0m\u001b[0;34m)\u001b[0m\u001b[0;34m.\u001b[0m\u001b[0mdot\u001b[0m\u001b[0;34m(\u001b[0m\u001b[0mbetas\u001b[0m\u001b[0;34m)\u001b[0m\u001b[0;34m\u001b[0m\u001b[0;34m\u001b[0m\u001b[0m\n\u001b[1;32m     21\u001b[0m \u001b[0;34m\u001b[0m\u001b[0m\n\u001b[0;32m---> 22\u001b[0;31m     \u001b[0mshanken_correction\u001b[0m \u001b[0;34m=\u001b[0m \u001b[0;36m1\u001b[0m \u001b[0;34m+\u001b[0m \u001b[0mlambdas\u001b[0m\u001b[0;34m.\u001b[0m\u001b[0mT\u001b[0m\u001b[0;34m.\u001b[0m\u001b[0mdot\u001b[0m\u001b[0;34m(\u001b[0m\u001b[0mnp\u001b[0m\u001b[0;34m.\u001b[0m\u001b[0mlinalg\u001b[0m\u001b[0;34m.\u001b[0m\u001b[0minv\u001b[0m\u001b[0;34m(\u001b[0m\u001b[0mSigma_F\u001b[0m\u001b[0;34m)\u001b[0m\u001b[0;34m)\u001b[0m\u001b[0;34m.\u001b[0m\u001b[0mdot\u001b[0m\u001b[0;34m(\u001b[0m\u001b[0mlambdas\u001b[0m\u001b[0;34m)\u001b[0m\u001b[0;34m\u001b[0m\u001b[0;34m\u001b[0m\u001b[0m\n\u001b[0m\u001b[1;32m     23\u001b[0m \u001b[0;34m\u001b[0m\u001b[0m\n\u001b[1;32m     24\u001b[0m     \u001b[0mcov_alpha\u001b[0m \u001b[0;34m=\u001b[0m \u001b[0;34m(\u001b[0m\u001b[0;36m1\u001b[0m\u001b[0;34m/\u001b[0m\u001b[0mT\u001b[0m\u001b[0;34m)\u001b[0m \u001b[0;34m*\u001b[0m \u001b[0min_minus_beta\u001b[0m\u001b[0;34m.\u001b[0m\u001b[0mdot\u001b[0m\u001b[0;34m(\u001b[0m\u001b[0mSigma\u001b[0m\u001b[0;34m)\u001b[0m\u001b[0;34m.\u001b[0m\u001b[0mdot\u001b[0m\u001b[0;34m(\u001b[0m\u001b[0min_minus_beta\u001b[0m\u001b[0;34m.\u001b[0m\u001b[0mT\u001b[0m\u001b[0;34m)\u001b[0m \u001b[0;34m*\u001b[0m \u001b[0mshanken_correction\u001b[0m\u001b[0;34m\u001b[0m\u001b[0;34m\u001b[0m\u001b[0m\n",
      "\u001b[0;32m<__array_function__ internals>\u001b[0m in \u001b[0;36minv\u001b[0;34m(*args, **kwargs)\u001b[0m\n",
      "\u001b[0;32m~/miniconda3/envs/env-349/lib/python3.6/site-packages/numpy/linalg/linalg.py\u001b[0m in \u001b[0;36minv\u001b[0;34m(a)\u001b[0m\n\u001b[1;32m    538\u001b[0m     \"\"\"\n\u001b[1;32m    539\u001b[0m     \u001b[0ma\u001b[0m\u001b[0;34m,\u001b[0m \u001b[0mwrap\u001b[0m \u001b[0;34m=\u001b[0m \u001b[0m_makearray\u001b[0m\u001b[0;34m(\u001b[0m\u001b[0ma\u001b[0m\u001b[0;34m)\u001b[0m\u001b[0;34m\u001b[0m\u001b[0;34m\u001b[0m\u001b[0m\n\u001b[0;32m--> 540\u001b[0;31m     \u001b[0m_assert_stacked_2d\u001b[0m\u001b[0;34m(\u001b[0m\u001b[0ma\u001b[0m\u001b[0;34m)\u001b[0m\u001b[0;34m\u001b[0m\u001b[0;34m\u001b[0m\u001b[0m\n\u001b[0m\u001b[1;32m    541\u001b[0m     \u001b[0m_assert_stacked_square\u001b[0m\u001b[0;34m(\u001b[0m\u001b[0ma\u001b[0m\u001b[0;34m)\u001b[0m\u001b[0;34m\u001b[0m\u001b[0;34m\u001b[0m\u001b[0m\n\u001b[1;32m    542\u001b[0m     \u001b[0mt\u001b[0m\u001b[0;34m,\u001b[0m \u001b[0mresult_t\u001b[0m \u001b[0;34m=\u001b[0m \u001b[0m_commonType\u001b[0m\u001b[0;34m(\u001b[0m\u001b[0ma\u001b[0m\u001b[0;34m)\u001b[0m\u001b[0;34m\u001b[0m\u001b[0;34m\u001b[0m\u001b[0m\n",
      "\u001b[0;32m~/miniconda3/envs/env-349/lib/python3.6/site-packages/numpy/linalg/linalg.py\u001b[0m in \u001b[0;36m_assert_stacked_2d\u001b[0;34m(*arrays)\u001b[0m\n\u001b[1;32m    196\u001b[0m         \u001b[0;32mif\u001b[0m \u001b[0ma\u001b[0m\u001b[0;34m.\u001b[0m\u001b[0mndim\u001b[0m \u001b[0;34m<\u001b[0m \u001b[0;36m2\u001b[0m\u001b[0;34m:\u001b[0m\u001b[0;34m\u001b[0m\u001b[0;34m\u001b[0m\u001b[0m\n\u001b[1;32m    197\u001b[0m             raise LinAlgError('%d-dimensional array given. Array must be '\n\u001b[0;32m--> 198\u001b[0;31m                     'at least two-dimensional' % a.ndim)\n\u001b[0m\u001b[1;32m    199\u001b[0m \u001b[0;34m\u001b[0m\u001b[0m\n\u001b[1;32m    200\u001b[0m \u001b[0;32mdef\u001b[0m \u001b[0m_assert_stacked_square\u001b[0m\u001b[0;34m(\u001b[0m\u001b[0;34m*\u001b[0m\u001b[0marrays\u001b[0m\u001b[0;34m)\u001b[0m\u001b[0;34m:\u001b[0m\u001b[0;34m\u001b[0m\u001b[0;34m\u001b[0m\u001b[0m\n",
      "\u001b[0;31mLinAlgError\u001b[0m: 0-dimensional array given. Array must be at least two-dimensional"
     ]
    }
   ],
   "source": [
    "xs_ap_test(ff_factor_panel[:,0:1], portfolio_return_panel)"
   ]
  },
  {
   "cell_type": "code",
   "execution_count": 54,
   "id": "graphic-chest",
   "metadata": {},
   "outputs": [
    {
     "name": "stdout",
     "output_type": "stream",
     "text": [
      "0.006964465565106855\n"
     ]
    },
    {
     "data": {
      "text/plain": [
       "(3.795729455228653e-12, 24, 1.0)"
      ]
     },
     "execution_count": 54,
     "metadata": {},
     "output_type": "execute_result"
    }
   ],
   "source": [
    "score, df = xs_ap_test(ff_factor_panel[:,0:3], portfolio_return_panel)\n",
    "rv = chi2(df)\n",
    "score, df, 1-rv.cdf(score)"
   ]
  },
  {
   "cell_type": "code",
   "execution_count": 55,
   "id": "latin-instrumentation",
   "metadata": {},
   "outputs": [
    {
     "name": "stdout",
     "output_type": "stream",
     "text": [
      "0.006611505525942679\n"
     ]
    },
    {
     "data": {
      "text/plain": [
       "(3.0802059559441538e-12, 24, 1.0)"
      ]
     },
     "execution_count": 55,
     "metadata": {},
     "output_type": "execute_result"
    }
   ],
   "source": [
    "score, df = xs_ap_test(pca_factors_25, portfolio_return_panel)\n",
    "rv = chi2(df)\n",
    "score, df, 1-rv.cdf(score)"
   ]
  },
  {
   "cell_type": "code",
   "execution_count": 56,
   "id": "musical-attack",
   "metadata": {},
   "outputs": [
    {
     "name": "stdout",
     "output_type": "stream",
     "text": [
      "0.006584986897440249\n"
     ]
    },
    {
     "data": {
      "text/plain": [
       "(3.031425663801067e-12, 24, 1.0)"
      ]
     },
     "execution_count": 56,
     "metadata": {},
     "output_type": "execute_result"
    }
   ],
   "source": [
    "score, df = xs_ap_test(rp_pca_factors_25, portfolio_return_panel)\n",
    "rv = chi2(df)\n",
    "score, df, 1-rv.cdf(score)"
   ]
  },
  {
   "cell_type": "code",
   "execution_count": null,
   "id": "handed-cliff",
   "metadata": {},
   "outputs": [],
   "source": []
  },
  {
   "cell_type": "code",
   "execution_count": 58,
   "id": "removed-retention",
   "metadata": {},
   "outputs": [
    {
     "name": "stdout",
     "output_type": "stream",
     "text": [
      "0.027022414706778124\n"
     ]
    },
    {
     "data": {
      "text/plain": [
       "(8.731461397701235e-10, 369, 1.0)"
      ]
     },
     "execution_count": 58,
     "metadata": {},
     "output_type": "execute_result"
    }
   ],
   "source": [
    "score, df = xs_ap_test(pca_factors_370, portfolio370_return_panel)\n",
    "rv = chi2(df)\n",
    "score, df, 1-rv.cdf(score)"
   ]
  },
  {
   "cell_type": "code",
   "execution_count": 59,
   "id": "external-pipeline",
   "metadata": {},
   "outputs": [
    {
     "name": "stdout",
     "output_type": "stream",
     "text": [
      "0.021307600334909853\n"
     ]
    },
    {
     "data": {
      "text/plain": [
       "(3.628215427199873e-10, 369, 1.0)"
      ]
     },
     "execution_count": 59,
     "metadata": {},
     "output_type": "execute_result"
    }
   ],
   "source": [
    "score, df = xs_ap_test(rp_pca_factors_370, portfolio370_return_panel)\n",
    "rv = chi2(df)\n",
    "score, df, 1-rv.cdf(score)"
   ]
  },
  {
   "cell_type": "markdown",
   "id": "quality-belief",
   "metadata": {},
   "source": [
    "###  10"
   ]
  },
  {
   "cell_type": "code",
   "execution_count": 60,
   "id": "listed-rally",
   "metadata": {},
   "outputs": [],
   "source": [
    "mkt_loadings = np.linalg.lstsq(ff_factor_panel[:,0:1], portfolio_return_panel, rcond=None)[0]"
   ]
  },
  {
   "cell_type": "code",
   "execution_count": 61,
   "id": "crude-empire",
   "metadata": {},
   "outputs": [],
   "source": [
    "ff_25_loadings = np.linalg.lstsq(ff_factor_panel[:,0:3], portfolio_return_panel, rcond=None)[0]"
   ]
  },
  {
   "cell_type": "code",
   "execution_count": 62,
   "id": "specified-beijing",
   "metadata": {},
   "outputs": [
    {
     "data": {
      "text/plain": [
       "<matplotlib.collections.PathCollection at 0x1a209cd320>"
      ]
     },
     "execution_count": 62,
     "metadata": {},
     "output_type": "execute_result"
    },
    {
     "data": {
      "image/png": "[encoded data removed]",
      "text/plain": [
       "<Figure size 432x288 with 1 Axes>"
      ]
     },
     "metadata": {
      "needs_background": "light"
     },
     "output_type": "display_data"
    }
   ],
   "source": [
    "plt.scatter(np.mean(ff_factor_panel[:,0:1], axis=0, keepdims=True).dot(mkt_loadings).flatten(), \n",
    "            np.mean(portfolio_return_panel, axis=0, keepdims=True).flatten())"
   ]
  },
  {
   "cell_type": "code",
   "execution_count": 63,
   "id": "preliminary-august",
   "metadata": {},
   "outputs": [
    {
     "data": {
      "text/plain": [
       "<matplotlib.collections.PathCollection at 0x1a1ef47550>"
      ]
     },
     "execution_count": 63,
     "metadata": {},
     "output_type": "execute_result"
    },
    {
     "data": {
      "image/png": "[encoded data removed]",
      "text/plain": [
       "<Figure size 432x288 with 1 Axes>"
      ]
     },
     "metadata": {
      "needs_background": "light"
     },
     "output_type": "display_data"
    }
   ],
   "source": [
    "plt.scatter(np.mean(ff_factor_panel[:,0:3], axis=0, keepdims=True).dot(ff_25_loadings).flatten(), \n",
    "            np.mean(portfolio_return_panel, axis=0, keepdims=True).flatten())"
   ]
  },
  {
   "cell_type": "code",
   "execution_count": 64,
   "id": "acknowledged-occurrence",
   "metadata": {},
   "outputs": [
    {
     "data": {
      "text/plain": [
       "<matplotlib.collections.PathCollection at 0x1a20a13278>"
      ]
     },
     "execution_count": 64,
     "metadata": {},
     "output_type": "execute_result"
    },
    {
     "data": {
      "image/png": "[encoded data removed]",
      "text/plain": [
       "<Figure size 432x288 with 1 Axes>"
      ]
     },
     "metadata": {
      "needs_background": "light"
     },
     "output_type": "display_data"
    }
   ],
   "source": [
    "plt.scatter(np.mean(pca_factors_25, axis=0, keepdims=True).dot(pca_loadings_25).flatten(), \n",
    "            np.mean(portfolio_return_panel, axis=0, keepdims=True).flatten())"
   ]
  },
  {
   "cell_type": "code",
   "execution_count": 65,
   "id": "changed-notification",
   "metadata": {},
   "outputs": [
    {
     "data": {
      "text/plain": [
       "<matplotlib.collections.PathCollection at 0x1a20b4c9e8>"
      ]
     },
     "execution_count": 65,
     "metadata": {},
     "output_type": "execute_result"
    },
    {
     "data": {
      "image/png": "[encoded data removed]",
      "text/plain": [
       "<Figure size 432x288 with 1 Axes>"
      ]
     },
     "metadata": {
      "needs_background": "light"
     },
     "output_type": "display_data"
    }
   ],
   "source": [
    "plt.scatter(np.mean(rp_pca_factors_25, axis=0, keepdims=True).dot(rp_pca_loadings_25).flatten(), \n",
    "            np.mean(portfolio_return_panel, axis=0, keepdims=True).flatten())"
   ]
  },
  {
   "cell_type": "code",
   "execution_count": null,
   "id": "fifty-brazil",
   "metadata": {},
   "outputs": [],
   "source": []
  },
  {
   "cell_type": "code",
   "execution_count": 66,
   "id": "lyric-young",
   "metadata": {},
   "outputs": [
    {
     "data": {
      "text/plain": [
       "<matplotlib.collections.PathCollection at 0x1a1ef04940>"
      ]
     },
     "execution_count": 66,
     "metadata": {},
     "output_type": "execute_result"
    },
    {
     "data": {
      "image/png": "[encoded data removed]",
      "text/plain": [
       "<Figure size 432x288 with 1 Axes>"
      ]
     },
     "metadata": {
      "needs_background": "light"
     },
     "output_type": "display_data"
    }
   ],
   "source": [
    "plt.scatter(np.mean(pca_factors_370, axis=0, keepdims=True).dot(pca_loadings_370).flatten(), \n",
    "            np.mean(portfolio370_return_panel, axis=0, keepdims=True).flatten())"
   ]
  },
  {
   "cell_type": "code",
   "execution_count": 67,
   "id": "mysterious-attachment",
   "metadata": {},
   "outputs": [
    {
     "data": {
      "text/plain": [
       "<matplotlib.collections.PathCollection at 0x1a207c5b00>"
      ]
     },
     "execution_count": 67,
     "metadata": {},
     "output_type": "execute_result"
    },
    {
     "data": {
      "image/png": "[encoded data removed]",
      "text/plain": [
       "<Figure size 432x288 with 1 Axes>"
      ]
     },
     "metadata": {
      "needs_background": "light"
     },
     "output_type": "display_data"
    }
   ],
   "source": [
    "plt.scatter(np.mean(rp_pca_factors_370, axis=0, keepdims=True).dot(rp_pca_loadings_370).flatten(), \n",
    "            np.mean(portfolio370_return_panel, axis=0, keepdims=True).flatten())"
   ]
  },
  {
   "cell_type": "code",
   "execution_count": null,
   "id": "adjustable-associate",
   "metadata": {},
   "outputs": [],
   "source": []
  },
  {
   "cell_type": "code",
   "execution_count": null,
   "id": "scenic-peoples",
   "metadata": {},
   "outputs": [],
   "source": []
  }
 ],
 "metadata": {
  "kernelspec": {
   "display_name": "Python 3",
   "language": "python",
   "name": "python3"
  },
  "language_info": {
   "codemirror_mode": {
    "name": "ipython",
    "version": 3
   },
   "file_extension": ".py",
   "mimetype": "text/x-python",
   "name": "python",
   "nbconvert_exporter": "python",
   "pygments_lexer": "ipython3",
   "version": "3.6.12"
  }
 },
 "nbformat": 4,
 "nbformat_minor": 5
}
