{
 "cells": [
  {
   "cell_type": "code",
   "execution_count": 1,
   "id": "accurate-belly",
   "metadata": {},
   "outputs": [],
   "source": [
    "import numpy as np\n",
    "import pandas as pd\n",
    "import matplotlib.pyplot as plt\n",
    "import sklearn.decomposition as skd\n",
    "import sklearn.preprocessing as skp\n",
    "import sklearn.pipeline as skpipe"
   ]
  },
  {
   "cell_type": "code",
   "execution_count": 1060,
   "id": "forty-pickup",
   "metadata": {},
   "outputs": [],
   "source": [
    "ff_factors = pd.read_csv('F-F_Research_Data_Factors.CSV', skiprows=3, index_col=0,\n",
    "                           engine='python', parse_dates=True, infer_datetime_format=True)\n",
    "ff_factors = ff_factors.loc[ff_factors.index >= 196311]\n",
    "ff_factors = ff_factors.loc[ff_factors.index <= 201712]\n",
    "\n",
    "portfolio_panel = pd.read_csv('25_Portfolios_5x5.CSV', skiprows=15, index_col=0,\n",
    "                           engine='python', parse_dates=True, infer_datetime_format=True)\n",
    "portfolio_1_names = portfolio_panel.columns\n",
    "portfolio_panel = portfolio_panel.loc[portfolio_panel.index >= 196311]\n",
    "portfolio_panel = portfolio_panel.loc[portfolio_panel.index <= 201712]\n",
    "\n",
    "portfolio370_panel = pd.read_csv('370portfolios.csv', skiprows=1, index_col=0,\n",
    "                           engine='python', parse_dates=True, infer_datetime_format=True)\n",
    "portfolio_2_names = portfolio370_panel.columns"
   ]
  },
  {
   "cell_type": "code",
   "execution_count": 1014,
   "id": "primary-basketball",
   "metadata": {},
   "outputs": [],
   "source": [
    "ff_factor_panel = ff_factors.to_numpy() / 100\n",
    "# make returns excess\n",
    "portfolio_return_panel = portfolio_panel.to_numpy() / 100 - ff_factor_panel[:, 3:4]\n",
    "portfolio370_return_panel = portfolio370_panel.to_numpy() - ff_factor_panel[:, 3:4]"
   ]
  },
  {
   "cell_type": "code",
   "execution_count": 1015,
   "id": "modern-panama",
   "metadata": {},
   "outputs": [],
   "source": [
    "panel_evals, _ = np.linalg.eigh(portfolio_return_panel.dot(portfolio_return_panel.T))\n",
    "panel_evals = panel_evals[::-1]\n",
    "\n",
    "panel370_evals, _ = np.linalg.eigh(portfolio370_return_panel.dot(portfolio370_return_panel.T))\n",
    "panel370_evals = panel370_evals[::-1]"
   ]
  },
  {
   "cell_type": "code",
   "execution_count": 1016,
   "id": "sized-globe",
   "metadata": {},
   "outputs": [
    {
     "data": {
      "text/plain": [
       "[<matplotlib.lines.Line2D at 0x1a5baf33c8>]"
      ]
     },
     "execution_count": 1016,
     "metadata": {},
     "output_type": "execute_result"
    },
    {
     "data": {
      "image/png": "[encoded data removed]",
      "text/plain": [
       "<Figure size 432x288 with 1 Axes>"
      ]
     },
     "metadata": {
      "needs_background": "light"
     },
     "output_type": "display_data"
    }
   ],
   "source": [
    "plt.plot(panel_evals[:10])"
   ]
  },
  {
   "cell_type": "code",
   "execution_count": 1017,
   "id": "found-heather",
   "metadata": {},
   "outputs": [
    {
     "data": {
      "text/plain": [
       "[<matplotlib.lines.Line2D at 0x1a55e03240>]"
      ]
     },
     "execution_count": 1017,
     "metadata": {},
     "output_type": "execute_result"
    },
    {
     "data": {
      "image/png": "[encoded data removed]",
      "text/plain": [
       "<Figure size 432x288 with 1 Axes>"
      ]
     },
     "metadata": {
      "needs_background": "light"
     },
     "output_type": "display_data"
    }
   ],
   "source": [
    "plt.plot(panel370_evals[:10])"
   ]
  },
  {
   "cell_type": "markdown",
   "id": "flexible-awareness",
   "metadata": {},
   "source": [
    "Code for parts 1-5"
   ]
  },
  {
   "cell_type": "code",
   "execution_count": 1018,
   "id": "decent-affiliation",
   "metadata": {},
   "outputs": [],
   "source": [
    "def ic_1(N,T):\n",
    "    NT = N*T\n",
    "    N_plus_T = N+T\n",
    "\n",
    "    return np.log(NT/N_plus_T) * N_plus_T/NT\n",
    "\n",
    "def l2_loss(N,T,data_panel, pred_data):\n",
    "    return (1/(N*T))*np.sum(np.square(data_panel - pred_data))\n",
    "\n",
    "def fit_bai_ng(data_panel, K):\n",
    "    T,N = data_panel.shape\n",
    "    pipe = skpipe.Pipeline([('Factors', skd.TruncatedSVD(K, algorithm='arpack'))])\n",
    "\n",
    "    lmbda = pipe.fit_transform((1/np.sqrt(T))*(data_panel - np.mean(data_panel, axis=0, keepdims=True)).T).T\n",
    "    F = np.linalg.lstsq(lmbda.T, data_panel.T, rcond=None)[0].T\n",
    "    \n",
    "    data_hat_last = F.dot(lmbda)\n",
    "\n",
    "    return F, lmbda, data_hat_last\n",
    "\n",
    "def bai_ng_ev_criterion(data_panel, ic_func, max_evs=15):\n",
    "    T, N = data_panel.shape\n",
    "    penalized_function_resuls = []\n",
    "    for i in range(1, max_evs + 1):\n",
    "        F, lmbda, pred_panel = fit_bai_ng(data_panel, i)\n",
    "        penalized_function_resuls.append(np.log(l2_loss(N,T,data_panel, pred_panel)) + i*ic_func(N,T))\n",
    "    return penalized_function_resuls\n",
    "\n",
    "def ahn_horenstein_evr(data_panel, max_evs=15):\n",
    "    T, N = data_panel.shape\n",
    "    means = np.mean(data_panel, axis=1, keepdims=True)\n",
    "    evals, _ = np.linalg.eigh(data_panel.dot(data_panel.T) - means.dot(means.T)) \n",
    "    evals = evals[::-1][:max_evs]\n",
    "    ratios = [x / y for x,y in zip(evals[:-1], evals[1:])]\n",
    "    return ratios\n",
    "    \n",
    "def fit_rp_pca(data_panel, K, gamma):\n",
    "    T, N = data_panel.shape\n",
    "#     std_pipe = skpipe.Pipeline([('Standardize', skp.StandardScaler(with_mean=True, with_std=True))])\n",
    "    fit_pipe = skpipe.Pipeline([('loadings', skd.TruncatedSVD(K, algorithm='arpack'))])\n",
    "    \n",
    "    r_bar = np.mean(data_panel, axis=0, keepdims=True)\n",
    "    objective  = (1/(N))*data_panel.T.dot(data_panel) + (gamma)*r_bar.T.dot(r_bar)\n",
    "    \n",
    "    lmbda = fit_pipe.fit_transform(objective)\n",
    "    print(lmbda.shape, data_panel.shape)\n",
    "    F =  np.linalg.lstsq(lmbda, data_panel.T, rcond=None)[0]\n",
    "    \n",
    "    return F.T, lmbda.T\n",
    "\n",
    "def onatski(data_panel, rmax=10, max_iter=100):\n",
    "    T,N = data_panel.shape\n",
    "    evals, _ = np.linalg.eigh(data_panel.dot(data_panel.T) / T)\n",
    "    evals = evals[::-1]\n",
    "    converged = False\n",
    "    i = 0\n",
    "    j=rmax + 1\n",
    "    offset_vect = np.array([[1, -1],\n",
    "                            [1, 0],\n",
    "                            [1, 1],\n",
    "                            [1, 2],\n",
    "                            [1, 3]])\n",
    "    while not converged and i < max_iter:\n",
    "        i += 1\n",
    "        tgt = evals[j-1:j+4]\n",
    "        regressor = np.copy(offset_vect)\n",
    "        regressor[:,1] += j\n",
    "        regressor[:,1] = regressor[:,1]**(2/3)\n",
    "        beta_hat = np.linalg.lstsq(regressor, tgt, rcond=None)[0][1]\n",
    "        \n",
    "        delta = 2 * np.abs(beta_hat)\n",
    "        \n",
    "        filtered = [i for i in range(rmax) if evals[i] - evals[i+1] >= delta]\n",
    "        rhat = max(filtered) if len(filtered) > 0 else 0\n",
    "        j_new = rhat + 1\n",
    "        converged =  j_new == j\n",
    "        j = j_new\n",
    "    return j"
   ]
  },
  {
   "cell_type": "markdown",
   "id": "interior-wesley",
   "metadata": {},
   "source": [
    "###  1"
   ]
  },
  {
   "cell_type": "code",
   "execution_count": 1019,
   "id": "informed-modem",
   "metadata": {},
   "outputs": [
    {
     "name": "stdout",
     "output_type": "stream",
     "text": [
      "5\n"
     ]
    },
    {
     "data": {
      "text/plain": [
       "[<matplotlib.lines.Line2D at 0x1a54764c18>]"
      ]
     },
     "execution_count": 1019,
     "metadata": {},
     "output_type": "execute_result"
    },
    {
     "data": {
      "image/png": "[encoded data removed]",
      "text/plain": [
       "<Figure size 432x288 with 1 Axes>"
      ]
     },
     "metadata": {
      "needs_background": "light"
     },
     "output_type": "display_data"
    }
   ],
   "source": [
    "by_factor_ic = bai_ng_ev_criterion(portfolio_return_panel, ic_1)\n",
    "print(np.argmin(by_factor_ic) + 1)\n",
    "plt.plot(by_factor_ic)    "
   ]
  },
  {
   "cell_type": "markdown",
   "id": "democratic-steel",
   "metadata": {},
   "source": [
    "We see that in this case (the first information criterion function in Bai and Ng) we select k = 5 factors"
   ]
  },
  {
   "cell_type": "code",
   "execution_count": 1038,
   "id": "verbal-accreditation",
   "metadata": {},
   "outputs": [
    {
     "name": "stdout",
     "output_type": "stream",
     "text": [
      "13\n"
     ]
    },
    {
     "data": {
      "text/plain": [
       "[<matplotlib.lines.Line2D at 0x1a30a42128>]"
      ]
     },
     "execution_count": 1038,
     "metadata": {},
     "output_type": "execute_result"
    },
    {
     "data": {
      "image/png": "[encoded data removed]",
      "text/plain": [
       "<Figure size 432x288 with 1 Axes>"
      ]
     },
     "metadata": {
      "needs_background": "light"
     },
     "output_type": "display_data"
    }
   ],
   "source": [
    "by_factor_ic = bai_ng_ev_criterion(portfolio370_return_panel, ic_1)\n",
    "print(np.argmin(by_factor_ic) + 1)\n",
    "plt.plot(by_factor_ic)"
   ]
  },
  {
   "cell_type": "markdown",
   "id": "twelve-european",
   "metadata": {},
   "source": [
    "We see that in this case (the first information criterion function in Bai and Ng) we select k = 13 factors"
   ]
  },
  {
   "cell_type": "markdown",
   "id": "greek-tackle",
   "metadata": {},
   "source": [
    "### 2"
   ]
  },
  {
   "cell_type": "code",
   "execution_count": 1040,
   "id": "silver-comedy",
   "metadata": {},
   "outputs": [
    {
     "data": {
      "text/plain": [
       "[<matplotlib.lines.Line2D at 0x1a54b76940>]"
      ]
     },
     "execution_count": 1040,
     "metadata": {},
     "output_type": "execute_result"
    },
    {
     "data": {
      "image/png": "[encoded data removed]",
      "text/plain": [
       "<Figure size 432x288 with 1 Axes>"
      ]
     },
     "metadata": {
      "needs_background": "light"
     },
     "output_type": "display_data"
    }
   ],
   "source": [
    "byf_factor_evr = ahn_horenstein_evr(portfolio_return_panel)\n",
    "plt.plot(byf_factor_evr)"
   ]
  },
  {
   "cell_type": "markdown",
   "id": "victorian-series",
   "metadata": {},
   "source": [
    "In this case we would select k=2 factors"
   ]
  },
  {
   "cell_type": "code",
   "execution_count": 1022,
   "id": "former-carbon",
   "metadata": {},
   "outputs": [
    {
     "data": {
      "text/plain": [
       "[<matplotlib.lines.Line2D at 0x1a5b598b38>]"
      ]
     },
     "execution_count": 1022,
     "metadata": {},
     "output_type": "execute_result"
    },
    {
     "data": {
      "image/png": "[encoded data removed]",
      "text/plain": [
       "<Figure size 432x288 with 1 Axes>"
      ]
     },
     "metadata": {
      "needs_background": "light"
     },
     "output_type": "display_data"
    }
   ],
   "source": [
    "byf_factor_evr = ahn_horenstein_evr(portfolio370_return_panel)\n",
    "plt.plot(byf_factor_evr)"
   ]
  },
  {
   "cell_type": "markdown",
   "id": "downtown-tribute",
   "metadata": {},
   "source": [
    "In this case we would select k=3 factors"
   ]
  },
  {
   "cell_type": "markdown",
   "id": "minimal-target",
   "metadata": {},
   "source": [
    "### 3"
   ]
  },
  {
   "cell_type": "code",
   "execution_count": 1078,
   "id": "prepared-drive",
   "metadata": {},
   "outputs": [
    {
     "data": {
      "image/png": "[encoded data removed]",
      "text/plain": [
       "<Figure size 432x288 with 1 Axes>"
      ]
     },
     "metadata": {
      "needs_background": "light"
     },
     "output_type": "display_data"
    },
    {
     "data": {
      "text/plain": [
       "(1, 1)"
      ]
     },
     "execution_count": 1078,
     "metadata": {},
     "output_type": "execute_result"
    }
   ],
   "source": [
    "plt.plot((panel_evals[:10] - panel_evals[1:11])/np.sum(panel370_evals))\n",
    "plt.show()\n",
    "onatski(portfolio_return_panel, rmax=10), onatski(portfolio_return_panel, rmax=20)"
   ]
  },
  {
   "cell_type": "markdown",
   "id": "proof-command",
   "metadata": {},
   "source": [
    "in this case we would select k=1 factor, we see that the choice is robust between rmax = 10 or 20"
   ]
  },
  {
   "cell_type": "code",
   "execution_count": 1052,
   "id": "furnished-integral",
   "metadata": {},
   "outputs": [
    {
     "data": {
      "text/plain": [
       "[<matplotlib.lines.Line2D at 0x1a5503fac8>]"
      ]
     },
     "execution_count": 1052,
     "metadata": {},
     "output_type": "execute_result"
    },
    {
     "data": {
      "image/png": "[encoded data removed]",
      "text/plain": [
       "<Figure size 432x288 with 1 Axes>"
      ]
     },
     "metadata": {
      "needs_background": "light"
     },
     "output_type": "display_data"
    }
   ],
   "source": [
    "plt.plot((panel370_evals[:10] - panel370_evals[1:11])/np.sum(panel370_evals))"
   ]
  },
  {
   "cell_type": "code",
   "execution_count": 1080,
   "id": "married-transfer",
   "metadata": {
    "scrolled": true
   },
   "outputs": [
    {
     "data": {
      "text/plain": [
       "(4, 4)"
      ]
     },
     "execution_count": 1080,
     "metadata": {},
     "output_type": "execute_result"
    }
   ],
   "source": [
    "onatski(portfolio370_return_panel, rmax=10), onatski(portfolio370_return_panel, rmax=20)"
   ]
  },
  {
   "cell_type": "markdown",
   "id": "touched-quick",
   "metadata": {},
   "source": [
    "in this case we would selct k=4 factors"
   ]
  },
  {
   "cell_type": "markdown",
   "id": "continuing-money",
   "metadata": {},
   "source": [
    "### 4"
   ]
  },
  {
   "cell_type": "code",
   "execution_count": 1050,
   "id": "smoking-maryland",
   "metadata": {},
   "outputs": [],
   "source": [
    "pca_factors_25, pca_loadings_25, _ = fit_bai_ng(portfolio_return_panel, 3)\n",
    "pca_factors_370, pca_loadings_370, _ = fit_bai_ng(portfolio370_return_panel, 5)"
   ]
  },
  {
   "cell_type": "markdown",
   "id": "genetic-pricing",
   "metadata": {},
   "source": [
    "### 5"
   ]
  },
  {
   "cell_type": "code",
   "execution_count": 1051,
   "id": "large-architect",
   "metadata": {},
   "outputs": [
    {
     "name": "stdout",
     "output_type": "stream",
     "text": [
      "(25, 3) (650, 25)\n",
      "(370, 5) (650, 370)\n"
     ]
    }
   ],
   "source": [
    "rp_pca_factors_25, rp_pca_loadings_25 = fit_rp_pca(portfolio_return_panel, 3, gamma=20)\n",
    "rp_pca_factors_370, rp_pca_loadings_370 = fit_rp_pca(portfolio370_return_panel, 5, gamma=20)"
   ]
  },
  {
   "cell_type": "markdown",
   "id": "veterinary-ghost",
   "metadata": {},
   "source": [
    "### 6"
   ]
  },
  {
   "cell_type": "code",
   "execution_count": 1027,
   "id": "possible-durham",
   "metadata": {
    "scrolled": true
   },
   "outputs": [
    {
     "data": {
      "image/png": "[encoded data removed]",
      "text/plain": [
       "<Figure size 1080x180 with 3 Axes>"
      ]
     },
     "metadata": {
      "needs_background": "light"
     },
     "output_type": "display_data"
    }
   ],
   "source": [
    "fig, axs = plt.subplots(1,3,figsize=(15,2.5))\n",
    "for i in range(3):\n",
    "    axs[i].bar(np.arange(25), pca_loadings_25[i])\n",
    "plt.show()"
   ]
  },
  {
   "cell_type": "code",
   "execution_count": 1028,
   "id": "foster-carrier",
   "metadata": {
    "scrolled": true
   },
   "outputs": [
    {
     "data": {
      "image/png": "[encoded data removed]",
      "text/plain": [
       "<Figure size 1080x180 with 3 Axes>"
      ]
     },
     "metadata": {
      "needs_background": "light"
     },
     "output_type": "display_data"
    }
   ],
   "source": [
    "fig, axs = plt.subplots(1,3,figsize=(15,2.5))\n",
    "for i in range(3):\n",
    "    axs[i].bar(np.arange(25), rp_pca_loadings_25[i])\n",
    "plt.show()"
   ]
  },
  {
   "cell_type": "code",
   "execution_count": 1059,
   "id": "central-converter",
   "metadata": {},
   "outputs": [
    {
     "data": {
      "text/plain": [
       "Index(['SMALL LoBM', 'ME1 BM2', 'ME1 BM3', 'ME1 BM4', 'SMALL HiBM', 'ME2 BM1',\n",
       "       'ME2 BM2', 'ME2 BM3', 'ME2 BM4', 'ME2 BM5', 'ME3 BM1', 'ME3 BM2',\n",
       "       'ME3 BM3', 'ME3 BM4', 'ME3 BM5', 'ME4 BM1', 'ME4 BM2', 'ME4 BM3',\n",
       "       'ME4 BM4', 'ME4 BM5', 'BIG LoBM', 'ME5 BM2', 'ME5 BM3', 'ME5 BM4',\n",
       "       'BIG HiBM'],\n",
       "      dtype='object')"
      ]
     },
     "execution_count": 1059,
     "metadata": {},
     "output_type": "execute_result"
    }
   ],
   "source": [
    "portfolio_1_names"
   ]
  },
  {
   "cell_type": "markdown",
   "id": "champion-george",
   "metadata": {},
   "source": [
    "In the case of the 25 factors, rp\\_pca and pca fit very similat factors. The first is clearly a market factor, the second is long small / low book to market stocks and moves somewhat linearly to short as btm/size increase. the spikes are whenever we switch from high book to market to low. The third factor is long small stocks, short low btm stocks."
   ]
  },
  {
   "cell_type": "code",
   "execution_count": 1029,
   "id": "federal-limit",
   "metadata": {
    "scrolled": true
   },
   "outputs": [
    {
     "data": {
      "image/png": "[encoded data removed]",
      "text/plain": [
       "<Figure size 1080x360 with 6 Axes>"
      ]
     },
     "metadata": {
      "needs_background": "light"
     },
     "output_type": "display_data"
    }
   ],
   "source": [
    "fig, axs = plt.subplots(2,3, figsize=(15,5))\n",
    "for i in range(5):\n",
    "    axs[i%2][i//2].bar(np.linspace(1, 370, 370), pca_loadings_370[i])\n",
    "plt.show()"
   ]
  },
  {
   "cell_type": "code",
   "execution_count": 1030,
   "id": "female-curve",
   "metadata": {
    "scrolled": true
   },
   "outputs": [
    {
     "data": {
      "image/png": "[encoded data removed]",
      "text/plain": [
       "<Figure size 1080x360 with 6 Axes>"
      ]
     },
     "metadata": {
      "needs_background": "light"
     },
     "output_type": "display_data"
    }
   ],
   "source": [
    "fig, axs = plt.subplots(2,3, figsize=(15,5))\n",
    "for i in range(5):\n",
    "    axs[i%2][i//2].bar(np.linspace(1, 370, 370), rp_pca_loadings_370[i])\n",
    "plt.show()"
   ]
  },
  {
   "cell_type": "code",
   "execution_count": 1063,
   "id": "fatal-interval",
   "metadata": {},
   "outputs": [
    {
     "name": "stdout",
     "output_type": "stream",
     "text": [
      "p1, p2, p3, p4, p5, p6, p7, p8, p9, p10, p1.1, p2.1, p3.1, p4.1, p5.1, p6.1, p7.1, p8.1, p9.1, p10.1, p1.2, p2.2, p3.2, p4.2, p5.2, p6.2, p7.2, p8.2, p9.2, p10.2, p1.3, p2.3, p3.3, p4.3, p5.3, p6.3, p7.3, p8.3, p9.3, p10.3, p1.4, p2.4, p3.4, p4.4, p5.4, p6.4, p7.4, p8.4, p9.4, p10.4, p1.5, p2.5, p3.5, p4.5, p5.5, p6.5, p7.5, p8.5, p9.5, p10.5, p1.6, p2.6, p3.6, p4.6, p5.6, p6.6, p7.6, p8.6, p9.6, p10.6, p1.7, p2.7, p3.7, p4.7, p5.7, p6.7, p7.7, p8.7, p9.7, p10.7, p1.8, p2.8, p3.8, p4.8, p5.8, p6.8, p7.8, p8.8, p9.8, p10.8, p1.9, p2.9, p3.9, p4.9, p5.9, p6.9, p7.9, p8.9, p9.9, p10.9, p1.10, p2.10, p3.10, p4.10, p5.10, p6.10, p7.10, p8.10, p9.10, p10.10, p1.11, p2.11, p3.11, p4.11, p5.11, p6.11, p7.11, p8.11, p9.11, p10.11, p1.12, p2.12, p3.12, p4.12, p5.12, p6.12, p7.12, p8.12, p9.12, p10.12, p1.13, p2.13, p3.13, p4.13, p5.13, p6.13, p7.13, p8.13, p9.13, p10.13, p1.14, p2.14, p3.14, p4.14, p5.14, p6.14, p7.14, p8.14, p9.14, p10.14, p1.15, p2.15, p3.15, p4.15, p5.15, p6.15, p7.15, p8.15, p9.15, p10.15, p1.16, p2.16, p3.16, p4.16, p5.16, p6.16, p7.16, p8.16, p9.16, p10.16, p1.17, p2.17, p3.17, p4.17, p5.17, p6.17, p7.17, p8.17, p9.17, p10.17, p1.18, p2.18, p3.18, p4.18, p5.18, p6.18, p7.18, p8.18, p9.18, p10.18, p1.19, p2.19, p3.19, p4.19, p5.19, p6.19, p7.19, p8.19, p9.19, p10.19, p1.20, p2.20, p3.20, p4.20, p5.20, p6.20, p7.20, p8.20, p9.20, p10.20, p1.21, p2.21, p3.21, p4.21, p5.21, p6.21, p7.21, p8.21, p9.21, p10.21, p1.22, p2.22, p3.22, p4.22, p5.22, p6.22, p7.22, p8.22, p9.22, p10.22, p1.23, p2.23, p3.23, p4.23, p5.23, p6.23, p7.23, p8.23, p9.23, p10.23, p1.24, p2.24, p3.24, p4.24, p5.24, p6.24, p7.24, p8.24, p9.24, p10.24, p1.25, p2.25, p3.25, p4.25, p5.25, p6.25, p7.25, p8.25, p9.25, p10.25, p1.26, p2.26, p3.26, p4.26, p5.26, p6.26, p7.26, p8.26, p9.26, p10.26, p1.27, p2.27, p3.27, p4.27, p5.27, p6.27, p7.27, p8.27, p9.27, p10.27, p1.28, p2.28, p3.28, p4.28, p5.28, p6.28, p7.28, p8.28, p9.28, p10.28, p1.29, p2.29, p3.29, p4.29, p5.29, p6.29, p7.29, p8.29, p9.29, p10.29, p1.30, p2.30, p3.30, p4.30, p5.30, p6.30, p7.30, p8.30, p9.30, p10.30, p1.31, p2.31, p3.31, p4.31, p5.31, p6.31, p7.31, p8.31, p9.31, p10.31, p1.32, p2.32, p3.32, p4.32, p5.32, p6.32, p7.32, p8.32, p9.32, p10.32, p1.33, p2.33, p3.33, p4.33, p5.33, p6.33, p7.33, p8.33, p9.33, p10.33, p1.34, p2.34, p3.34, p4.34, p5.34, p6.34, p7.34, p8.34, p9.34, p10.34, p1.35, p2.35, p3.35, p4.35, p5.35, p6.35, p7.35, p8.35, p9.35, p10.35, p1.36, p2.36, p3.36, p4.36, p5.36, p6.36, p7.36, p8.36, p9.36, p10.36\n"
     ]
    }
   ],
   "source": [
    "print(', '.join(portfolio_2_names))"
   ]
  },
  {
   "cell_type": "markdown",
   "id": "smaller-garden",
   "metadata": {},
   "source": [
    "These are naturally a little harder to visually interprit, although we can certainly say that the first is a market factor. We can in this case, however, see a clear difference bewteen pca and rp-pca emerging."
   ]
  },
  {
   "cell_type": "markdown",
   "id": "genuine-nudist",
   "metadata": {},
   "source": [
    "### 7"
   ]
  },
  {
   "cell_type": "code",
   "execution_count": 1031,
   "id": "pregnant-count",
   "metadata": {},
   "outputs": [],
   "source": [
    "def sharpe(series):\n",
    "    return np.mean(series) / np.std(series)\n",
    "\n",
    "\n",
    "def sharpe_factors(factors_t_n):\n",
    "    mu_f = np.mean(factors_t_n, axis=0, keepdims=True)\n",
    "    return np.sqrt(mu_f.dot(np.linalg.inv(np.cov(factors_t_n.T))).dot(mu_f.T))\n",
    "\n",
    "def markowitz(panel_t_n):\n",
    "    T,N = panel_t_n.shape\n",
    "    mu = np.mean(panel_t_n, axis=0, keepdims=True)\n",
    "    \n",
    "    cov = np.cov(panel_t_n.T)\n",
    "    if N > 1:\n",
    "        return np.linalg.inv(cov).dot(mu.T)\n",
    "    else:\n",
    "        return mu.T / cov\n",
    "\n",
    "def sharpe_of_factors(factors):\n",
    "    portfolio = markowitz(factors)\n",
    "    return sharpe(factors.dot(portfolio))"
   ]
  },
  {
   "cell_type": "markdown",
   "id": "computational-banks",
   "metadata": {},
   "source": [
    "market factor"
   ]
  },
  {
   "cell_type": "code",
   "execution_count": 1032,
   "id": "naughty-advantage",
   "metadata": {},
   "outputs": [
    {
     "data": {
      "text/plain": [
       "0.11964372062827072"
      ]
     },
     "execution_count": 1032,
     "metadata": {},
     "output_type": "execute_result"
    }
   ],
   "source": [
    "sharpe_of_factors(ff_factor_panel[:,0:1])"
   ]
  },
  {
   "cell_type": "markdown",
   "id": "corresponding-gardening",
   "metadata": {},
   "source": [
    "fama french 3 factor"
   ]
  },
  {
   "cell_type": "code",
   "execution_count": 1033,
   "id": "crucial-bacon",
   "metadata": {},
   "outputs": [
    {
     "data": {
      "text/plain": [
       "array([[0.2072842]])"
      ]
     },
     "execution_count": 1033,
     "metadata": {},
     "output_type": "execute_result"
    }
   ],
   "source": [
    "sharpe_factors(ff_factor_panel[:,0:3])"
   ]
  },
  {
   "cell_type": "markdown",
   "id": "worthy-clothing",
   "metadata": {},
   "source": [
    "pca 3 factors"
   ]
  },
  {
   "cell_type": "code",
   "execution_count": 1034,
   "id": "pregnant-constitution",
   "metadata": {},
   "outputs": [
    {
     "data": {
      "text/plain": [
       "array([[0.21833483]])"
      ]
     },
     "execution_count": 1034,
     "metadata": {},
     "output_type": "execute_result"
    }
   ],
   "source": [
    "sharpe_factors(pca_factors_25)"
   ]
  },
  {
   "cell_type": "markdown",
   "id": "prospective-recorder",
   "metadata": {},
   "source": [
    "rp-pca 3 factors"
   ]
  },
  {
   "cell_type": "code",
   "execution_count": 1035,
   "id": "checked-canon",
   "metadata": {},
   "outputs": [
    {
     "data": {
      "text/plain": [
       "array([[0.22187965]])"
      ]
     },
     "execution_count": 1035,
     "metadata": {},
     "output_type": "execute_result"
    }
   ],
   "source": [
    "sharpe_factors(rp_pca_factors_25)"
   ]
  },
  {
   "cell_type": "markdown",
   "id": "going-assessment",
   "metadata": {},
   "source": [
    "pca 5 factors second portfolios"
   ]
  },
  {
   "cell_type": "code",
   "execution_count": 1036,
   "id": "recreational-panama",
   "metadata": {},
   "outputs": [
    {
     "data": {
      "text/plain": [
       "array([[0.24663223]])"
      ]
     },
     "execution_count": 1036,
     "metadata": {},
     "output_type": "execute_result"
    }
   ],
   "source": [
    "sharpe_factors(pca_factors_370)"
   ]
  },
  {
   "cell_type": "markdown",
   "id": "attempted-immunology",
   "metadata": {},
   "source": [
    "rp-pca 5 factors second portfolios"
   ]
  },
  {
   "cell_type": "code",
   "execution_count": 1037,
   "id": "recreational-grenada",
   "metadata": {},
   "outputs": [
    {
     "data": {
      "text/plain": [
       "array([[0.57723402]])"
      ]
     },
     "execution_count": 1037,
     "metadata": {},
     "output_type": "execute_result"
    }
   ],
   "source": [
    "sharpe_factors(rp_pca_factors_370)"
   ]
  },
  {
   "cell_type": "markdown",
   "id": "limiting-summit",
   "metadata": {},
   "source": [
    "###  8"
   ]
  },
  {
   "cell_type": "code",
   "execution_count": 959,
   "id": "atlantic-attribute",
   "metadata": {},
   "outputs": [],
   "source": [
    "import scipy as scp"
   ]
  },
  {
   "cell_type": "code",
   "execution_count": 981,
   "id": "desperate-involvement",
   "metadata": {},
   "outputs": [],
   "source": [
    "def time_series_ap_test(factors, test_assets):\n",
    "    T, N = test_assets.shape\n",
    "    _, K = factors.shape\n",
    "    ones_T = np.ones((T,1))\n",
    "    loadings = np.linalg.lstsq(np.concatenate([ones_T, factors], axis=1),\n",
    "                    test_assets, rcond=None)[0]\n",
    "    alphas = loadings[0:1, :]\n",
    "    betas = loadings[1:, :]\n",
    "    \n",
    "    residuals = test_assets - np.concatenate([ones_T, factors], axis=1).dot(loadings)\n",
    "    f_bar = np.mean(factors, axis=0, keepdims=True)\n",
    "    \n",
    "    if K == 1:\n",
    "        omega = (1/T)*sum([(factors[t:t+1,:] - f_bar).T.dot(factors[t:t+1,:] - f_bar) for t in range(T)])\n",
    "    else:\n",
    "        omega = np.cov(factors.T)\n",
    "\n",
    "    sigma_hat = (1/T)*sum([residuals[i:i+1,:].T.dot(residuals[i:i+1,:]) for i in range(T)]) * np.eye(N)\n",
    "    \n",
    "    fscore = ((T - N - K) / N) * ((1 + f_bar.dot(np.linalg.inv(omega)).dot(f_bar.T))**(-1)) * \\\n",
    "        (alphas.dot(np.linalg.inv(sigma_hat)).dot(alphas.T))\n",
    "    fscore = fscore[0][0]\n",
    "    \n",
    "    p = 1-scp.stats.f.cdf(fscore, N, T - N - K) #find p-value of F test statistic \n",
    "    print({\n",
    "        \"p value\": p,\n",
    "        \"f score\": fscore,\n",
    "        \"df1\": N,\n",
    "        \"df2\": T-K-N,\n",
    "    })\n",
    "    return p, fscore, N, T - N - K\n",
    "    "
   ]
  },
  {
   "cell_type": "markdown",
   "id": "blocked-examination",
   "metadata": {},
   "source": [
    "market factor, 25 portfolios"
   ]
  },
  {
   "cell_type": "code",
   "execution_count": 982,
   "id": "difficult-difference",
   "metadata": {},
   "outputs": [
    {
     "name": "stdout",
     "output_type": "stream",
     "text": [
      "{'p value': 3.3306690738754696e-16, 'f score': 5.687256129620094, 'df1': 25, 'df2': 624}\n"
     ]
    }
   ],
   "source": [
    "_ = time_series_ap_test(ff_factor_panel[:,0:1], portfolio_return_panel)\n"
   ]
  },
  {
   "cell_type": "markdown",
   "id": "illegal-chinese",
   "metadata": {},
   "source": [
    "ff 3 factors, 25 portfolios"
   ]
  },
  {
   "cell_type": "code",
   "execution_count": 984,
   "id": "suburban-somewhere",
   "metadata": {},
   "outputs": [
    {
     "name": "stdout",
     "output_type": "stream",
     "text": [
      "{'p value': 4.059543146084366e-09, 'f score': 3.75697833967705, 'df1': 25, 'df2': 622}\n"
     ]
    }
   ],
   "source": [
    "_ = time_series_ap_test(ff_factor_panel[:,0:3], portfolio_return_panel)"
   ]
  },
  {
   "cell_type": "markdown",
   "id": "threatened-slovak",
   "metadata": {},
   "source": [
    "pca factors, 25 portfolios"
   ]
  },
  {
   "cell_type": "code",
   "execution_count": 985,
   "id": "stainless-payroll",
   "metadata": {},
   "outputs": [
    {
     "name": "stdout",
     "output_type": "stream",
     "text": [
      "{'p value': 2.9760638398101946e-12, 'f score': 4.615951573327762, 'df1': 25, 'df2': 622}\n"
     ]
    }
   ],
   "source": [
    "_ = time_series_ap_test(pca_factors_25, portfolio_return_panel)\n"
   ]
  },
  {
   "cell_type": "markdown",
   "id": "particular-combat",
   "metadata": {},
   "source": [
    "rp-pca factors, 25 portfolios"
   ]
  },
  {
   "cell_type": "code",
   "execution_count": 986,
   "id": "intellectual-gnome",
   "metadata": {},
   "outputs": [
    {
     "name": "stdout",
     "output_type": "stream",
     "text": [
      "{'p value': 6.186828827026147e-12, 'f score': 4.529720391307021, 'df1': 25, 'df2': 622}\n"
     ]
    }
   ],
   "source": [
    "_ = time_series_ap_test(rp_pca_factors_25, portfolio_return_panel)\n"
   ]
  },
  {
   "cell_type": "markdown",
   "id": "valuable-retention",
   "metadata": {},
   "source": [
    "pca factors, 370 portfolios"
   ]
  },
  {
   "cell_type": "code",
   "execution_count": 987,
   "id": "regulated-animation",
   "metadata": {},
   "outputs": [
    {
     "name": "stdout",
     "output_type": "stream",
     "text": [
      "{'p value': 8.043448616046334e-07, 'f score': 1.736326068441845, 'df1': 370, 'df2': 275}\n"
     ]
    }
   ],
   "source": [
    "_ = time_series_ap_test(pca_factors_370, portfolio370_return_panel)\n"
   ]
  },
  {
   "cell_type": "markdown",
   "id": "enclosed-fisher",
   "metadata": {},
   "source": [
    "rp-pca factors, 370 portfolios"
   ]
  },
  {
   "cell_type": "code",
   "execution_count": 988,
   "id": "spare-carter",
   "metadata": {},
   "outputs": [
    {
     "name": "stdout",
     "output_type": "stream",
     "text": [
      "{'p value': 0.020416396615084986, 'f score': 1.2619538042259923, 'df1': 370, 'df2': 275}\n"
     ]
    }
   ],
   "source": [
    "_ = time_series_ap_test(rp_pca_factors_370, portfolio370_return_panel)\n"
   ]
  },
  {
   "cell_type": "markdown",
   "id": "english-portrait",
   "metadata": {},
   "source": [
    "###  9"
   ]
  },
  {
   "cell_type": "code",
   "execution_count": 997,
   "id": "exempt-chaos",
   "metadata": {},
   "outputs": [],
   "source": [
    "def xs_ap_test(factors, test_assets):\n",
    "    T, N = test_assets.shape\n",
    "    _, K = factors.shape\n",
    "    ones_T = np.ones((T,1))\n",
    "    loadings = np.linalg.lstsq(np.concatenate([ones_T, factors], axis=1),\n",
    "                    test_assets, rcond=None)[0]\n",
    "    a_s = loadings[0:1, :]\n",
    "    betas = loadings[1:, :]\n",
    "    print(betas.shape)\n",
    "    resids = test_assets - np.concatenate([ones_T, factors], axis=1).dot(loadings)\n",
    "    \n",
    "    Sigma = np.eye(N) * np.cov(resids.T)\n",
    "    \n",
    "    Sigma_F = np.cov(factors.T)\n",
    "\n",
    "    expected_returns = np.mean(test_assets, axis=0)\n",
    "    ones_N = np.ones((N,1))\n",
    "    lambdas = np.linalg.lstsq(betas.T, expected_returns, rcond=None)[0]\n",
    "    alphas = expected_returns.T - betas.T.dot(lambdas)\n",
    "    \n",
    "    in_minus_beta = np.eye(N) - betas.T.dot(np.linalg.inv(betas.dot(betas.T))).dot(betas)\n",
    "    \n",
    "    if factors.shape[1] > 1:\n",
    "        shanken_correction = 1 + lambdas.T.dot(np.linalg.inv(Sigma_F)).dot(lambdas)\n",
    "#         shanken_correction = 1\n",
    "    else:\n",
    "        shanken_correction = 1 + lambdas.T.dot(lambdas) / (Sigma_F)\n",
    "\n",
    "#         shanken_correction = 1\n",
    "    \n",
    "    cov_alpha = (1/T) * in_minus_beta.dot(Sigma).dot(in_minus_beta.T) * shanken_correction \n",
    "    score = alphas.T.dot(cov_alpha).dot(alphas)\n",
    "    p = 1-chi2.cdf(score, N-K) #find p-value\n",
    "    print({\n",
    "        \"p value\": p,\n",
    "        \"score\": score,\n",
    "        \"df\": N-K,\n",
    "    })\n",
    "    return p, score, N - K\n",
    "    "
   ]
  },
  {
   "cell_type": "code",
   "execution_count": 998,
   "id": "fewer-temperature",
   "metadata": {},
   "outputs": [],
   "source": [
    "from scipy.stats.distributions import chi2"
   ]
  },
  {
   "cell_type": "code",
   "execution_count": 999,
   "id": "flexible-border",
   "metadata": {},
   "outputs": [],
   "source": [
    "from linearmodels.asset_pricing.model import LinearFactorModel"
   ]
  },
  {
   "cell_type": "code",
   "execution_count": 1000,
   "id": "steady-biology",
   "metadata": {},
   "outputs": [],
   "source": [
    "lfm = LinearFactorModel(portfolio_return_panel, ff_factor_panel[:,0:1])\n",
    "lfm_fit = lfm.fit()"
   ]
  },
  {
   "cell_type": "code",
   "execution_count": 1001,
   "id": "brilliant-junction",
   "metadata": {},
   "outputs": [
    {
     "data": {
      "text/html": [
       "<table class=\"simpletable\">\n",
       "<caption>LinearFactorModel Estimation Summary</caption>\n",
       "<tr>\n",
       "  <th>No. Test Portfolios:</th>        <td>25</td>        <th>  R-squared:         </th>  <td>0.7275</td> \n",
       "</tr>\n",
       "<tr>\n",
       "  <th>No. Factors:</th>                 <td>1</td>        <th>  J-statistic:       </th>  <td>115.56</td> \n",
       "</tr>\n",
       "<tr>\n",
       "  <th>No. Observations:</th>           <td>650</td>       <th>  P-value            </th>  <td>0.0000</td> \n",
       "</tr>\n",
       "<tr>\n",
       "  <th>Date:</th>                <td>Wed, Mar 03 2021</td> <th>  Distribution:      </th> <td>chi2(24)</td>\n",
       "</tr>\n",
       "<tr>\n",
       "  <th>Time:</th>                    <td>20:04:27</td>     <th>                     </th>     <td></td>    \n",
       "</tr>\n",
       "<tr>\n",
       "  <th>Cov. Estimator:</th>           <td>robust</td>      <th>                     </th>     <td></td>    \n",
       "</tr>\n",
       "<tr>\n",
       "  <th></th>                             <td></td>         <th>                     </th>     <td></td>    \n",
       "</tr>\n",
       "</table>\n",
       "<table class=\"simpletable\">\n",
       "<caption>Risk Premia Estimates</caption>\n",
       "<tr>\n",
       "     <td></td>    <th>Parameter</th> <th>Std. Err.</th> <th>T-stat</th> <th>P-value</th> <th>Lower CI</th> <th>Upper CI</th>\n",
       "</tr>\n",
       "<tr>\n",
       "  <th>factor</th>  <td>0.6627</td>    <td>0.1857</td>   <td>3.5694</td> <td>0.0004</td>   <td>0.2988</td>   <td>1.0266</td> \n",
       "</tr>\n",
       "</table><br/><br/>Covariance estimator:<br/>HeteroskedasticCovariance<br/>See full_summary for complete results<br/>id: 0x1a458afd68"
      ],
      "text/plain": [
       "                      LinearFactorModel Estimation Summary                      \n",
       "================================================================================\n",
       "No. Test Portfolios:                 25   R-squared:                      0.7275\n",
       "No. Factors:                          1   J-statistic:                    115.56\n",
       "No. Observations:                   650   P-value                         0.0000\n",
       "Date:                  Wed, Mar 03 2021   Distribution:                 chi2(24)\n",
       "Time:                          20:04:27                                         \n",
       "Cov. Estimator:                  robust                                         \n",
       "                                                                                \n",
       "                            Risk Premia Estimates                             \n",
       "==============================================================================\n",
       "            Parameter  Std. Err.     T-stat    P-value    Lower CI    Upper CI\n",
       "------------------------------------------------------------------------------\n",
       "factor         0.6627     0.1857     3.5694     0.0004      0.2988      1.0266\n",
       "==============================================================================\n",
       "\n",
       "Covariance estimator:\n",
       "HeteroskedasticCovariance\n",
       "See full_summary for complete results\n",
       "LinearFactorModelResults, id: 0x1a458afd68"
      ]
     },
     "execution_count": 1001,
     "metadata": {},
     "output_type": "execute_result"
    }
   ],
   "source": [
    "lfm_fit"
   ]
  },
  {
   "cell_type": "code",
   "execution_count": 1002,
   "id": "painted-billion",
   "metadata": {},
   "outputs": [
    {
     "data": {
      "text/html": [
       "<table class=\"simpletable\">\n",
       "<caption>LinearFactorModel Estimation Summary</caption>\n",
       "<tr>\n",
       "  <th>No. Test Portfolios:</th>        <td>25</td>        <th>  R-squared:         </th>  <td>0.9157</td> \n",
       "</tr>\n",
       "<tr>\n",
       "  <th>No. Factors:</th>                 <td>3</td>        <th>  J-statistic:       </th>  <td>94.059</td> \n",
       "</tr>\n",
       "<tr>\n",
       "  <th>No. Observations:</th>           <td>650</td>       <th>  P-value            </th>  <td>0.0000</td> \n",
       "</tr>\n",
       "<tr>\n",
       "  <th>Date:</th>                <td>Wed, Mar 03 2021</td> <th>  Distribution:      </th> <td>chi2(22)</td>\n",
       "</tr>\n",
       "<tr>\n",
       "  <th>Time:</th>                    <td>20:04:27</td>     <th>                     </th>     <td></td>    \n",
       "</tr>\n",
       "<tr>\n",
       "  <th>Cov. Estimator:</th>           <td>robust</td>      <th>                     </th>     <td></td>    \n",
       "</tr>\n",
       "<tr>\n",
       "  <th></th>                             <td></td>         <th>                     </th>     <td></td>    \n",
       "</tr>\n",
       "</table>\n",
       "<table class=\"simpletable\">\n",
       "<caption>Risk Premia Estimates</caption>\n",
       "<tr>\n",
       "      <td></td>     <th>Parameter</th> <th>Std. Err.</th> <th>T-stat</th> <th>P-value</th> <th>Lower CI</th> <th>Upper CI</th>\n",
       "</tr>\n",
       "<tr>\n",
       "  <th>factor.0</th>  <td>0.5046</td>    <td>0.1751</td>   <td>2.8817</td> <td>0.0040</td>   <td>0.1614</td>   <td>0.8479</td> \n",
       "</tr>\n",
       "<tr>\n",
       "  <th>factor.1</th>  <td>0.1911</td>    <td>0.1232</td>   <td>1.5504</td> <td>0.1210</td>   <td>-0.0505</td>  <td>0.4326</td> \n",
       "</tr>\n",
       "<tr>\n",
       "  <th>factor.2</th>  <td>0.4071</td>    <td>0.1144</td>   <td>3.5593</td> <td>0.0004</td>   <td>0.1829</td>   <td>0.6313</td> \n",
       "</tr>\n",
       "</table><br/><br/>Covariance estimator:<br/>HeteroskedasticCovariance<br/>See full_summary for complete results<br/>id: 0x1a5676b710"
      ],
      "text/plain": [
       "                      LinearFactorModel Estimation Summary                      \n",
       "================================================================================\n",
       "No. Test Portfolios:                 25   R-squared:                      0.9157\n",
       "No. Factors:                          3   J-statistic:                    94.059\n",
       "No. Observations:                   650   P-value                         0.0000\n",
       "Date:                  Wed, Mar 03 2021   Distribution:                 chi2(22)\n",
       "Time:                          20:04:27                                         \n",
       "Cov. Estimator:                  robust                                         \n",
       "                                                                                \n",
       "                            Risk Premia Estimates                             \n",
       "==============================================================================\n",
       "            Parameter  Std. Err.     T-stat    P-value    Lower CI    Upper CI\n",
       "------------------------------------------------------------------------------\n",
       "factor.0       0.5046     0.1751     2.8817     0.0040      0.1614      0.8479\n",
       "factor.1       0.1911     0.1232     1.5504     0.1210     -0.0505      0.4326\n",
       "factor.2       0.4071     0.1144     3.5593     0.0004      0.1829      0.6313\n",
       "==============================================================================\n",
       "\n",
       "Covariance estimator:\n",
       "HeteroskedasticCovariance\n",
       "See full_summary for complete results\n",
       "LinearFactorModelResults, id: 0x1a5676b710"
      ]
     },
     "execution_count": 1002,
     "metadata": {},
     "output_type": "execute_result"
    }
   ],
   "source": [
    "lfm = LinearFactorModel(portfolio_return_panel, ff_factor_panel[:,0:3])\n",
    "lfm_fit = lfm.fit( debiased=True)\n",
    "lfm_fit"
   ]
  },
  {
   "cell_type": "markdown",
   "id": "inappropriate-things",
   "metadata": {},
   "source": [
    "market factors, 25 portfolios"
   ]
  },
  {
   "cell_type": "code",
   "execution_count": 1008,
   "id": "upper-lightweight",
   "metadata": {},
   "outputs": [
    {
     "name": "stdout",
     "output_type": "stream",
     "text": [
      "(1, 25)\n",
      "{'p value': 1.0, 'score': 3.414303463356029e-10, 'df': 24}\n"
     ]
    }
   ],
   "source": [
    "_ = xs_ap_test(ff_factor_panel[:,0:1], portfolio_return_panel)"
   ]
  },
  {
   "cell_type": "markdown",
   "id": "smoking-truck",
   "metadata": {},
   "source": [
    "ff 3 factors, 25 portfolios"
   ]
  },
  {
   "cell_type": "code",
   "execution_count": 1009,
   "id": "portuguese-allergy",
   "metadata": {},
   "outputs": [
    {
     "name": "stdout",
     "output_type": "stream",
     "text": [
      "(3, 25)\n",
      "{'p value': 1.0, 'score': 3.101863737637997e-11, 'df': 22}\n"
     ]
    }
   ],
   "source": [
    "_ = xs_ap_test(ff_factor_panel[:,0:3], portfolio_return_panel)"
   ]
  },
  {
   "cell_type": "markdown",
   "id": "indirect-gospel",
   "metadata": {},
   "source": [
    "pca factors, 25 portfolios"
   ]
  },
  {
   "cell_type": "code",
   "execution_count": 1010,
   "id": "ranging-calcium",
   "metadata": {},
   "outputs": [
    {
     "name": "stdout",
     "output_type": "stream",
     "text": [
      "(3, 25)\n",
      "{'p value': 1.0, 'score': 1.990960861796633e-11, 'df': 22}\n"
     ]
    }
   ],
   "source": [
    "_ = xs_ap_test(pca_factors_25, portfolio_return_panel)"
   ]
  },
  {
   "cell_type": "markdown",
   "id": "competitive-herald",
   "metadata": {},
   "source": [
    "rp-pca factors, 25 portfolios"
   ]
  },
  {
   "cell_type": "code",
   "execution_count": 1011,
   "id": "patient-liberia",
   "metadata": {},
   "outputs": [
    {
     "name": "stdout",
     "output_type": "stream",
     "text": [
      "(3, 25)\n",
      "{'p value': 1.0, 'score': 1.935256194220642e-11, 'df': 22}\n"
     ]
    }
   ],
   "source": [
    "_ = xs_ap_test(rp_pca_factors_25, portfolio_return_panel)\n"
   ]
  },
  {
   "cell_type": "markdown",
   "id": "stretch-disabled",
   "metadata": {},
   "source": [
    "pca factors, 370 portfolios"
   ]
  },
  {
   "cell_type": "code",
   "execution_count": 1012,
   "id": "looking-estate",
   "metadata": {},
   "outputs": [
    {
     "name": "stdout",
     "output_type": "stream",
     "text": [
      "(5, 370)\n",
      "{'p value': 1.0, 'score': 4.2356681111082273e-10, 'df': 365}\n"
     ]
    }
   ],
   "source": [
    "_ = xs_ap_test(pca_factors_370, portfolio370_return_panel)"
   ]
  },
  {
   "cell_type": "markdown",
   "id": "manufactured-outside",
   "metadata": {},
   "source": [
    "rp-pca factors, 370 portfolios"
   ]
  },
  {
   "cell_type": "code",
   "execution_count": 1013,
   "id": "ignored-technical",
   "metadata": {},
   "outputs": [
    {
     "name": "stdout",
     "output_type": "stream",
     "text": [
      "(5, 370)\n",
      "{'p value': 1.0, 'score': 2.6022219702128646e-10, 'df': 365}\n"
     ]
    }
   ],
   "source": [
    "_ = xs_ap_test(rp_pca_factors_370, portfolio370_return_panel)\n"
   ]
  },
  {
   "cell_type": "markdown",
   "id": "talented-monthly",
   "metadata": {},
   "source": [
    "###  10"
   ]
  },
  {
   "cell_type": "code",
   "execution_count": 857,
   "id": "successful-nomination",
   "metadata": {},
   "outputs": [],
   "source": [
    "mkt_loadings = np.linalg.lstsq(ff_factor_panel[:,0:1], portfolio_return_panel, rcond=None)[0]"
   ]
  },
  {
   "cell_type": "code",
   "execution_count": 858,
   "id": "social-mechanism",
   "metadata": {},
   "outputs": [],
   "source": [
    "ff_25_loadings = np.linalg.lstsq(ff_factor_panel[:,0:3], portfolio_return_panel, rcond=None)[0]"
   ]
  },
  {
   "cell_type": "code",
   "execution_count": 1070,
   "id": "living-bikini",
   "metadata": {},
   "outputs": [],
   "source": [
    "def plot_er_vs_pred_er(factors, loadings, returns):\n",
    "    expected_returns = np.mean(returns, axis=0)\n",
    "    mean_predicted_return = np.mean(factors@loadings, axis=0)\n",
    "    \n",
    "    m, b = np.polyfit(expected_returns, mean_predicted_return, 1)\n",
    "\n",
    "    plt.plot(expected_returns, mean_predicted_return, 'o')\n",
    "\n",
    "    plt.plot(expected_returns, m*expected_returns + b)\n",
    "    plt.ylabel(\"predicted\")\n",
    "    plt.ylabel(\"expected\")\n",
    "    plt.show()"
   ]
  },
  {
   "cell_type": "markdown",
   "id": "expected-recruitment",
   "metadata": {},
   "source": [
    "market factor, 25 portfolios"
   ]
  },
  {
   "cell_type": "code",
   "execution_count": 1071,
   "id": "legislative-injury",
   "metadata": {},
   "outputs": [
    {
     "data": {
      "image/png": "[encoded data removed]",
      "text/plain": [
       "<Figure size 432x288 with 1 Axes>"
      ]
     },
     "metadata": {
      "needs_background": "light"
     },
     "output_type": "display_data"
    }
   ],
   "source": [
    "plot_er_vs_pred_er(ff_factor_panel[:,0:1], mkt_loadings, portfolio_return_panel)\n",
    "\n"
   ]
  },
  {
   "cell_type": "markdown",
   "id": "practical-swedish",
   "metadata": {},
   "source": [
    "ff 3 factors, 25 portfolios"
   ]
  },
  {
   "cell_type": "code",
   "execution_count": 1072,
   "id": "strategic-february",
   "metadata": {},
   "outputs": [
    {
     "data": {
      "image/png": "[encoded data removed]",
      "text/plain": [
       "<Figure size 432x288 with 1 Axes>"
      ]
     },
     "metadata": {
      "needs_background": "light"
     },
     "output_type": "display_data"
    }
   ],
   "source": [
    "plot_er_vs_pred_er(ff_factor_panel[:,0:3], ff_25_loadings, portfolio_return_panel)\n"
   ]
  },
  {
   "cell_type": "markdown",
   "id": "exposed-nurse",
   "metadata": {},
   "source": [
    "pca factors, 25 portfolios"
   ]
  },
  {
   "cell_type": "code",
   "execution_count": 1073,
   "id": "smaller-tulsa",
   "metadata": {},
   "outputs": [
    {
     "data": {
      "image/png": "[encoded data removed]",
      "text/plain": [
       "<Figure size 432x288 with 1 Axes>"
      ]
     },
     "metadata": {
      "needs_background": "light"
     },
     "output_type": "display_data"
    }
   ],
   "source": [
    "plot_er_vs_pred_er(pca_factors_25, pca_loadings_25, portfolio_return_panel)"
   ]
  },
  {
   "cell_type": "markdown",
   "id": "foster-cruise",
   "metadata": {},
   "source": [
    "rp-pca factors, 25 portfolios"
   ]
  },
  {
   "cell_type": "code",
   "execution_count": 1075,
   "id": "traditional-carrier",
   "metadata": {},
   "outputs": [
    {
     "data": {
      "image/png": "[encoded data removed]",
      "text/plain": [
       "<Figure size 432x288 with 1 Axes>"
      ]
     },
     "metadata": {
      "needs_background": "light"
     },
     "output_type": "display_data"
    }
   ],
   "source": [
    "plot_er_vs_pred_er(rp_pca_factors_25, rp_pca_loadings_25, portfolio_return_panel)\n"
   ]
  },
  {
   "cell_type": "markdown",
   "id": "intellectual-partition",
   "metadata": {},
   "source": [
    "pca factors, 370 portfolios"
   ]
  },
  {
   "cell_type": "code",
   "execution_count": 1076,
   "id": "allied-indonesia",
   "metadata": {},
   "outputs": [
    {
     "data": {
      "image/png": "[encoded data removed]",
      "text/plain": [
       "<Figure size 432x288 with 1 Axes>"
      ]
     },
     "metadata": {
      "needs_background": "light"
     },
     "output_type": "display_data"
    }
   ],
   "source": [
    "plot_er_vs_pred_er(pca_factors_370, pca_loadings_370, portfolio370_return_panel)"
   ]
  },
  {
   "cell_type": "markdown",
   "id": "spoken-weather",
   "metadata": {},
   "source": [
    "rp-pca factors, 370 portfolios"
   ]
  },
  {
   "cell_type": "code",
   "execution_count": 1077,
   "id": "detected-tennessee",
   "metadata": {},
   "outputs": [
    {
     "data": {
      "image/png": "[encoded data removed]",
      "text/plain": [
       "<Figure size 432x288 with 1 Axes>"
      ]
     },
     "metadata": {
      "needs_background": "light"
     },
     "output_type": "display_data"
    }
   ],
   "source": [
    "plot_er_vs_pred_er(rp_pca_factors_370, rp_pca_loadings_370, portfolio370_return_panel)"
   ]
  },
  {
   "cell_type": "markdown",
   "id": "square-barcelona",
   "metadata": {},
   "source": [
    "### 11"
   ]
  },
  {
   "cell_type": "markdown",
   "id": "molecular-firewall",
   "metadata": {},
   "source": [
    "#### Part 7\n",
    "The results here are largely what we expect rp-pca slightly betas pca in the small K/N setting, however it dominates it in the high dimensional setting. On the 25 portfolio case, we see that the statistical factors are slightly better than the FF french ones, however they are very close. This is by construction, we are forming portfolios based on the stock characteristics from which two of those three factors are derived.\n"
   ]
  },
  {
   "cell_type": "markdown",
   "id": "present-indie",
   "metadata": {},
   "source": [
    "#### Part 8\n",
    "For the 25 portfolios, we saw that the time series alphas were statistically significantly  nonzero for all sets of factors. For the 370 portfolios, we saw that while the alphas for the PCA factors statistically significantly  nonzero, the alpha for the RP-PCA factors were statistically significantly nonzero at 5 \\%, but not at 1 \\%\n"
   ]
  },
  {
   "cell_type": "markdown",
   "id": "enhanced-kansas",
   "metadata": {},
   "source": [
    "#### Part 9\n",
    "For this test, we saw that the alphas for the cross sectiontional asset pricing test were not statistically significantly different than zero for any of the sets of factors or test portfolios\n"
   ]
  },
  {
   "cell_type": "markdown",
   "id": "gothic-playing",
   "metadata": {},
   "source": [
    "#### Part 10\n",
    "For part 10, we see that the average return predicted by the market factor is not at all forming a straight line with the portfolios. This is expected. For the other three sets of factors, we see that they get the trend right, but that there is still a lot of variation around the average predicted return. This confirms our suspicion based on the similarities of the sharpe ratios of the factors that they price the 25 portfolios reasonably similarly. PCA get's the trend right for the average return of the 370 anomaly portfolios, however there is still a lot of variation around that line. RP-PCA is clearly superior in terms of average return vs mean predicted return for the anomaly portfolios, this is in line with the fact that the alphas for the rp-pca factors for the time series regression test were not statistically significant at the 1 % level. "
   ]
  },
  {
   "cell_type": "code",
   "execution_count": null,
   "id": "imported-centre",
   "metadata": {},
   "outputs": [],
   "source": []
  }
 ],
 "metadata": {
  "kernelspec": {
   "display_name": "Python 3",
   "language": "python",
   "name": "python3"
  },
  "language_info": {
   "codemirror_mode": {
    "name": "ipython",
    "version": 3
   },
   "file_extension": ".py",
   "mimetype": "text/x-python",
   "name": "python",
   "nbconvert_exporter": "python",
   "pygments_lexer": "ipython3",
   "version": "3.6.12"
  }
 },
 "nbformat": 4,
 "nbformat_minor": 5
}
