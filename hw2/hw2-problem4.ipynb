{
 "cells": [
  {
   "cell_type": "code",
   "execution_count": 1,
   "metadata": {},
   "outputs": [],
   "source": [
    "import numpy as np\n",
    "#from arch import arch_model\n",
    "import numpy as np\n",
    "from scipy import optimize\n",
    "from scipy.stats import norm\n",
    "from scipy import special\n",
    "import pandas as pd\n",
    "import matplotlib.pyplot as plt"
   ]
  },
  {
   "cell_type": "code",
   "execution_count": 2,
   "metadata": {},
   "outputs": [],
   "source": [
    "import matplotlib.pyplot as plt"
   ]
  },
  {
   "cell_type": "markdown",
   "metadata": {},
   "source": [
    "## Read in data"
   ]
  },
  {
   "cell_type": "code",
   "execution_count": 11,
   "metadata": {},
   "outputs": [],
   "source": [
    "import pandas as pd"
   ]
  },
  {
   "cell_type": "code",
   "execution_count": 12,
   "metadata": {},
   "outputs": [],
   "source": [
    "daily_sp500_returns = pd.read_fwf(\"daily_sp500_ret.txt\").to_numpy()[4:]\n",
    "monthly_sp500_returns = pd.read_fwf(\"monthly_sp500_ret.txt\").to_numpy()[4:]"
   ]
  },
  {
   "cell_type": "code",
   "execution_count": 13,
   "metadata": {},
   "outputs": [
    {
     "ename": "NameError",
     "evalue": "name 'monthly_garch_model_11' is not defined",
     "output_type": "error",
     "traceback": [
      "\u001b[0;31m---------------------------------------------------------------------------\u001b[0m",
      "\u001b[0;31mNameError\u001b[0m                                 Traceback (most recent call last)",
      "\u001b[0;32m<ipython-input-13-b7f9b479698f>\u001b[0m in \u001b[0;36m<module>\u001b[0;34m\u001b[0m\n\u001b[1;32m      1\u001b[0m \u001b[0msp500_monthly_garch_model_11\u001b[0m \u001b[0;34m=\u001b[0m \u001b[0march_model\u001b[0m\u001b[0;34m(\u001b[0m\u001b[0mmonthly_sp500_returns\u001b[0m\u001b[0;34m[\u001b[0m\u001b[0;34m:\u001b[0m\u001b[0;34m,\u001b[0m\u001b[0;36m1\u001b[0m\u001b[0;34m]\u001b[0m\u001b[0;34m,\u001b[0m \u001b[0mvol\u001b[0m\u001b[0;34m=\u001b[0m\u001b[0;34m'Garch'\u001b[0m\u001b[0;34m,\u001b[0m \u001b[0mp\u001b[0m\u001b[0;34m=\u001b[0m\u001b[0;36m1\u001b[0m\u001b[0;34m,\u001b[0m \u001b[0mo\u001b[0m\u001b[0;34m=\u001b[0m\u001b[0;36m0\u001b[0m\u001b[0;34m,\u001b[0m \u001b[0mq\u001b[0m\u001b[0;34m=\u001b[0m\u001b[0;36m1\u001b[0m\u001b[0;34m)\u001b[0m\u001b[0;34m\u001b[0m\u001b[0;34m\u001b[0m\u001b[0m\n\u001b[0;32m----> 2\u001b[0;31m \u001b[0msp500_monthly_garch_fitted\u001b[0m \u001b[0;34m=\u001b[0m \u001b[0mmonthly_garch_model_11\u001b[0m\u001b[0;34m.\u001b[0m\u001b[0mfit\u001b[0m\u001b[0;34m(\u001b[0m\u001b[0;34m)\u001b[0m\u001b[0;34m\u001b[0m\u001b[0;34m\u001b[0m\u001b[0m\n\u001b[0m",
      "\u001b[0;31mNameError\u001b[0m: name 'monthly_garch_model_11' is not defined"
     ]
    }
   ],
   "source": [
    "sp500_monthly_garch_model_11 = arch_model(monthly_sp500_returns[:,1], vol='Garch', p=1, o=0, q=1)\n",
    "sp500_monthly_garch_fitted = monthly_garch_model_11.fit()"
   ]
  },
  {
   "cell_type": "code",
   "execution_count": null,
   "metadata": {},
   "outputs": [],
   "source": [
    "sp500_monthly_garch_fitted.params"
   ]
  },
  {
   "cell_type": "code",
   "execution_count": null,
   "metadata": {},
   "outputs": [],
   "source": []
  },
  {
   "cell_type": "code",
   "execution_count": null,
   "metadata": {},
   "outputs": [],
   "source": []
  },
  {
   "cell_type": "markdown",
   "metadata": {},
   "source": [
    "# Problem 4"
   ]
  },
  {
   "cell_type": "code",
   "execution_count": 15,
   "metadata": {},
   "outputs": [],
   "source": [
    "monthly_yields = pd.read_csv(\"1month_tbill_daily.csv\")\n",
    "monthly_yields = pd.Series.dropna(monthly_yields[\"NFCP_M1\"])\n",
    "monthly_yields = monthly_yields.values"
   ]
  },
  {
   "cell_type": "code",
   "execution_count": 3,
   "metadata": {},
   "outputs": [],
   "source": [
    "def simulate_euler_CIR(kappa, theta, sigma2, nsteps):\n",
    "    dt = 1/250.0\n",
    "    rates = np.zeros(nsteps)\n",
    "    rates[0] = theta\n",
    "    noise = np.random.normal(0, np.sqrt(dt), size=nsteps)\n",
    "    for t in range(1, nsteps):\n",
    "        rates[t] = abs(rates[t-1] + kappa*(theta - rates[t-1])*dt + np.sqrt(sigma2*rates[t-1])*noise[t])\n",
    "    return rates"
   ]
  },
  {
   "cell_type": "code",
   "execution_count": 4,
   "metadata": {},
   "outputs": [],
   "source": [
    "rates = simulate_euler_CIR(kappa=0.234, theta=0.081, sigma2=0.0073, nsteps=100000)"
   ]
  },
  {
   "cell_type": "code",
   "execution_count": 5,
   "metadata": {},
   "outputs": [
    {
     "data": {
      "text/plain": [
       "[<matplotlib.lines.Line2D at 0x21b06b98b08>]"
      ]
     },
     "execution_count": 5,
     "metadata": {},
     "output_type": "execute_result"
    },
    {
     "data": {
      "image/png": "[encoded data removed]",
      "text/plain": [
       "<Figure size 432x288 with 1 Axes>"
      ]
     },
     "metadata": {
      "needs_background": "light"
     },
     "output_type": "display_data"
    }
   ],
   "source": [
    "plt.plot(rates)"
   ]
  },
  {
   "cell_type": "code",
   "execution_count": 6,
   "metadata": {},
   "outputs": [
    {
     "data": {
      "text/plain": [
       "(400,)"
      ]
     },
     "execution_count": 6,
     "metadata": {},
     "output_type": "execute_result"
    }
   ],
   "source": [
    "monthly_rates = rates[::250]\n",
    "monthly_rates.shape"
   ]
  },
  {
   "cell_type": "markdown",
   "metadata": {},
   "source": [
    "$$\\epsilon_{k+1} - E{\\epsilon_{k+1}|F_k} = 0$$\n",
    "$$r_{k+1} - r_k - \\kappa(\\theta - r_t) \\delta_k = 0$$"
   ]
  },
  {
   "cell_type": "code",
   "execution_count": 7,
   "metadata": {},
   "outputs": [],
   "source": [
    "\n",
    "# define moment functions\n",
    "\n",
    "def g1(pv, data, dt=1):\n",
    "    theta, kappa, sig2 = pv\n",
    "    return data[1:] - data[:-1] - kappa*(theta - data[:-1])*dt\n",
    "\n",
    "def g2(pv, data, dt=1):\n",
    "    theta, kappa, sig2 = pv\n",
    "    return data[:-1]*g1(pv, data)\n",
    "\n",
    "def g3(pv, data, dt=1):\n",
    "    theta, kappa, sig2 = pv\n",
    "    return (g1(pv, data))**2 - sig2*data[:-1]*dt\n",
    "\n",
    "def g4(pv, data, dt=1):\n",
    "    theta, kappa, sig2 = pv\n",
    "    return data[:-1] * g3(pv, data) - sig2*(data[:-1]**2)*dt"
   ]
  },
  {
   "cell_type": "code",
   "execution_count": 8,
   "metadata": {},
   "outputs": [],
   "source": [
    "def GMM(moments, param_vect, data, n_iter=1):\n",
    "    results = []\n",
    "    W = np.eye(len(moments))\n",
    "    \n",
    "    def G(W):\n",
    "        def inner(pv):\n",
    "            moment_means = np.mean(np.array([g(pv, data) for g in moments]), axis=1)\n",
    "            retval = moment_means @ W @ moment_means\n",
    "            return retval\n",
    "        return inner\n",
    "    \n",
    "    res = optimize.minimize(G(W), x0 = param_vect, method = 'BFGS', tol = 1.e-9)\n",
    "    \n",
    "    res = res.x\n",
    "    results.append(res.copy())\n",
    "    for _ in range(n_iter):\n",
    "        \n",
    "        S = np.zeros_like(W)\n",
    "        for t in range(data.shape[0]-1):\n",
    "            moments_t = np.array([g(res, data[t:t+2]) for g in moments])\n",
    "            \n",
    "            S += np.outer(moments_t, moments_t)\n",
    "        S /= (data.shape[0]-1)\n",
    "        moment_means = np.array([np.mean(g(res, data)) for g in moments])\n",
    "        S -= np.outer(moment_means, moment_means)\n",
    "        W = np.linalg.inv(S)\n",
    "        res = optimize.minimize(G(W), x0 = param_vect, method = 'BFGS', tol = 1.e-9)\n",
    "        res=res.x\n",
    "        results.append(res.copy())\n",
    "    return results"
   ]
  },
  {
   "cell_type": "code",
   "execution_count": 9,
   "metadata": {},
   "outputs": [],
   "source": [
    "theta_init = 0.1 #np.mean(monthly_rates)\n",
    "kappa_init = 0.1 #0.234\n",
    "sig2_init = 0.1 #0.0073\n",
    "opt_input = [theta_init, kappa_init, sig2_init]"
   ]
  },
  {
   "cell_type": "code",
   "execution_count": 10,
   "metadata": {},
   "outputs": [],
   "source": [
    "results = GMM([g1, g2, g3, g4], opt_input, monthly_rates, n_iter=10)"
   ]
  },
  {
   "cell_type": "code",
   "execution_count": 11,
   "metadata": {},
   "outputs": [
    {
     "data": {
      "text/plain": [
       "[array([0.07611894, 0.20156168, 0.00605917]),\n",
       " array([0.06501008, 0.23971576, 0.00194293]),\n",
       " array([ 0.0595778 ,  0.28298299, -0.00051742]),\n",
       " array([ 0.05724879,  0.27692396, -0.00045305]),\n",
       " array([ 0.05642657,  0.27558337, -0.00045843]),\n",
       " array([ 0.05614622,  0.2748859 , -0.0004519 ]),\n",
       " array([ 0.05605377,  0.27471349, -0.00045176]),\n",
       " array([ 0.05602303,  0.27464076, -0.00045119]),\n",
       " array([ 0.05601295,  0.27462071, -0.00045113]),\n",
       " array([ 0.05600962,  0.27461311, -0.00045108]),\n",
       " array([ 0.05600852,  0.27461085, -0.00045107])]"
      ]
     },
     "execution_count": 11,
     "metadata": {},
     "output_type": "execute_result"
    }
   ],
   "source": [
    "results"
   ]
  },
  {
   "cell_type": "code",
   "execution_count": 16,
   "metadata": {},
   "outputs": [
    {
     "data": {
      "text/plain": [
       "[array([4.58711286e-01, 3.70246140e-04, 2.80852430e-04]),\n",
       " array([ 0.08463005, -0.00073534, -0.00018813]),\n",
       " array([-0.03067354, -0.00074474, -0.00018424]),\n",
       " array([-0.04041045, -0.0007446 , -0.00018447]),\n",
       " array([-0.04119372, -0.00074453, -0.00018446]),\n",
       " array([-0.04124892, -0.00074452, -0.00018446]),\n",
       " array([-0.0412564 , -0.00074452, -0.00018446]),\n",
       " array([-0.04124893, -0.00074452, -0.00018446]),\n",
       " array([-0.04125   , -0.00074452, -0.00018446]),\n",
       " array([-0.04125073, -0.00074452, -0.00018446]),\n",
       " array([-0.04119495, -0.00074452, -0.00018446])]"
      ]
     },
     "execution_count": 16,
     "metadata": {},
     "output_type": "execute_result"
    }
   ],
   "source": [
    "# now try with tbill data\n",
    "results = GMM([g1, g2, g3, g4], opt_input, monthly_yields, n_iter=10)\n",
    "results"
   ]
  },
  {
   "cell_type": "code",
   "execution_count": 12,
   "metadata": {},
   "outputs": [],
   "source": [
    "def QML_G(data):\n",
    "    def qml(pv):\n",
    "        theta, kappa, sig2 = pv\n",
    "        lik = 0\n",
    "        for i in range(data.shape[0]-1):\n",
    "            lik += norm.logpdf(data[i + 1], data[i] + kappa*(theta - data[i]), \n",
    "                        np.sqrt(abs(sig2) * data[i]))\n",
    "        return -lik\n",
    "    return qml"
   ]
  },
  {
   "cell_type": "code",
   "execution_count": 13,
   "metadata": {},
   "outputs": [
    {
     "data": {
      "text/plain": [
       "      fun: -987.4012403109007\n",
       " hess_inv: array([[ 2.09130039e-05, -2.95334604e-05, -5.61249988e-08],\n",
       "       [-2.95334604e-05,  2.65042115e-04,  2.82449960e-07],\n",
       "       [-5.61249988e-08,  2.82449960e-07,  1.02102968e-07]])\n",
       "      jac: array([5.34057617e-05, 2.28881836e-05, 3.07464600e-03])\n",
       "  message: 'Desired error not necessarily achieved due to precision loss.'\n",
       "     nfev: 511\n",
       "      nit: 15\n",
       "     njev: 100\n",
       "   status: 2\n",
       "  success: False\n",
       "        x: array([0.07609309, 0.22203799, 0.00606887])"
      ]
     },
     "execution_count": 13,
     "metadata": {},
     "output_type": "execute_result"
    }
   ],
   "source": [
    "optimize.minimize(QML_G(monthly_rates), x0 = [0.1, 0.1, 0.1])  # looks good: hess_inv is our covariance matrix"
   ]
  },
  {
   "cell_type": "code",
   "execution_count": 17,
   "metadata": {},
   "outputs": [
    {
     "data": {
      "text/plain": [
       "      fun: -8977.616886662352\n",
       " hess_inv: array([[ 3.29726657e-02, -3.34463983e-05,  2.03884867e-06],\n",
       "       [-3.34463983e-05,  7.75758689e-08, -4.62659313e-09],\n",
       "       [ 2.03884867e-06, -4.62659313e-09,  2.82041093e-09]])\n",
       "      jac: array([ 4.88281250e-04, -3.09082031e-01,  1.42041016e+00])\n",
       "  message: 'Desired error not necessarily achieved due to precision loss.'\n",
       "     nfev: 671\n",
       "      nit: 37\n",
       "     njev: 132\n",
       "   status: 2\n",
       "  success: False\n",
       "        x: array([1.83770309e+00, 1.58278125e-03, 2.52754406e-03])"
      ]
     },
     "execution_count": 17,
     "metadata": {},
     "output_type": "execute_result"
    }
   ],
   "source": [
    "optimize.minimize(QML_G(monthly_yields), x0 = [0.1, 0.1, 0.1])  # looks good: hess_inv is our covariance matrix"
   ]
  },
  {
   "cell_type": "code",
   "execution_count": 18,
   "metadata": {},
   "outputs": [],
   "source": [
    "yts = 2 * np.sqrt(monthly_rates)"
   ]
  },
  {
   "cell_type": "code",
   "execution_count": 19,
   "metadata": {},
   "outputs": [],
   "source": [
    "def SO_lik(yts):\n",
    "    def like(pv):\n",
    "        theta, kappa, sig2 = pv\n",
    "        A = (2/yts[:-1])*(kappa*theta - (sig2)/4) - kappa*(yts[:-1])/2 \n",
    "        B = (-2/(yts[:-1]**2)) * (kappa*theta - (sig2)/4) - kappa/2\n",
    "        C = (4/(yts[:-1]**3)) * (kappa*theta - (sig2)/4)\n",
    "\n",
    "        K = np.exp(B) - 1\n",
    "\n",
    "        M = yts[:-1] + (A/B)*K + ((sig2) * C)/(2 * (B**2))*(K - B)\n",
    "        V = (sig2)/(2*B) * (np.exp(2*B) - 1)\n",
    "\n",
    "        lik = 0\n",
    "        for i in range(yts.shape[0] -1):\n",
    "            lik -= -((yts[i + 1] - M[i])**2) / (2*V[i]) - (1/2)*np.log(2*np.pi*V[i])\n",
    "        return lik\n",
    "    return like"
   ]
  },
  {
   "cell_type": "code",
   "execution_count": 20,
   "metadata": {},
   "outputs": [
    {
     "data": {
      "text/plain": [
       "      fun: -464.52164932174225\n",
       " hess_inv: <3x3 LbfgsInvHessProduct with dtype=float64>\n",
       "      jac: array([0.00012506, 0.00019895, 0.00372324])\n",
       "  message: b'CONVERGENCE: REL_REDUCTION_OF_F_<=_FACTR*EPSMCH'\n",
       "     nfev: 176\n",
       "      nit: 23\n",
       "   status: 0\n",
       "  success: True\n",
       "        x: array([0.07598002, 0.25144113, 0.00735892])"
      ]
     },
     "execution_count": 20,
     "metadata": {},
     "output_type": "execute_result"
    }
   ],
   "source": [
    "optimize.minimize(SO_lik(yts), x0 = [0.1, 0.1, 0.1],\n",
    "                  bounds = [(0.0, 1), (0.0, 1), (1e-15, 1)], tol = 1.e-14)"
   ]
  },
  {
   "cell_type": "code",
   "execution_count": 21,
   "metadata": {},
   "outputs": [
    {
     "name": "stderr",
     "output_type": "stream",
     "text": [
      "C:\\Users\\Jordan\\anaconda3\\lib\\site-packages\\ipykernel_launcher.py:15: RuntimeWarning: divide by zero encountered in double_scalars\n",
      "  from ipykernel import kernelapp as app\n",
      "C:\\Users\\Jordan\\anaconda3\\lib\\site-packages\\ipykernel_launcher.py:15: RuntimeWarning: divide by zero encountered in log\n",
      "  from ipykernel import kernelapp as app\n",
      "C:\\Users\\Jordan\\anaconda3\\lib\\site-packages\\ipykernel_launcher.py:15: RuntimeWarning: invalid value encountered in double_scalars\n",
      "  from ipykernel import kernelapp as app\n"
     ]
    },
    {
     "data": {
      "text/plain": [
       "      fun: nan\n",
       " hess_inv: <3x3 LbfgsInvHessProduct with dtype=float64>\n",
       "      jac: array([inf, inf, inf])\n",
       "  message: b'ABNORMAL_TERMINATION_IN_LNSRCH'\n",
       "     nfev: 84\n",
       "      nit: 0\n",
       "   status: 2\n",
       "  success: False\n",
       "        x: array([0.1, 0.1, 0.1])"
      ]
     },
     "execution_count": 21,
     "metadata": {},
     "output_type": "execute_result"
    }
   ],
   "source": [
    "yts2 = 2 * np.sqrt(monthly_yields)\n",
    "optimize.minimize(SO_lik(yts2), x0 = [0.1, 0.1, 0.1],\n",
    "                  bounds = [(0.0, 1), (0.0, 1), (1e-15, 1)], tol = 1.e-14)"
   ]
  },
  {
   "cell_type": "code",
   "execution_count": 40,
   "metadata": {},
   "outputs": [
    {
     "data": {
      "text/plain": [
       "-318.5878083933145"
      ]
     },
     "execution_count": 40,
     "metadata": {},
     "output_type": "execute_result"
    }
   ],
   "source": [
    "SO_lik(yts)([0.05, 0.1, 0.05**2])"
   ]
  },
  {
   "cell_type": "code",
   "execution_count": 41,
   "metadata": {},
   "outputs": [
    {
     "data": {
      "text/plain": [
       "-465.98197007223746"
      ]
     },
     "execution_count": 41,
     "metadata": {},
     "output_type": "execute_result"
    }
   ],
   "source": [
    "SO_lik(yts)([0.08311736, 0.23470817, 0.00717133])"
   ]
  },
  {
   "cell_type": "code",
   "execution_count": 31,
   "metadata": {},
   "outputs": [],
   "source": [
    "#4. Exact Likelihood\n",
    "def exact_lik(xts):\n",
    "    def e_like(pv):\n",
    "        theta = pv[0]\n",
    "        kappa = pv[1]\n",
    "        sig = pv[2]\n",
    "        lik = 0\n",
    "    \n",
    "        c = (2 * kappa) / ((sig**2) * (1 - np.exp(-kappa)) )\n",
    "        u = c * xts * np.exp(-kappa)\n",
    "        v = c * xts\n",
    "        q = (2 * kappa * theta) / (sig**2) - 1\n",
    "     \n",
    "        for i in range(xts.shape[0] -1):\n",
    "            lik += np.log(c * np.exp(-(u[i] + v[i + 1])) * (v[i + 1] / u[i])**(q / 2) \n",
    "                    * special.iv(q, 2*np.sqrt(u[i] * v[i + 1])))\n",
    "        return -lik\n",
    "    return e_like"
   ]
  },
  {
   "cell_type": "code",
   "execution_count": 32,
   "metadata": {},
   "outputs": [
    {
     "data": {
      "text/plain": [
       "      fun: -999.8814370964268\n",
       " hess_inv: array([[3.53483984e-04, 2.93794915e-04, 3.65197539e-05],\n",
       "       [2.93794915e-04, 2.46790964e-04, 3.11859093e-05],\n",
       "       [3.65197539e-05, 3.11859093e-05, 1.28159623e-05]])\n",
       "      jac: array([ 3.66210938e-04,  1.14440918e-04, -9.15527344e-05])\n",
       "  message: 'Desired error not necessarily achieved due to precision loss.'\n",
       "     nfev: 657\n",
       "      nit: 14\n",
       "     njev: 129\n",
       "   status: 2\n",
       "  success: False\n",
       "        x: array([0.07609071, 0.25378437, 0.08580815])"
      ]
     },
     "execution_count": 32,
     "metadata": {},
     "output_type": "execute_result"
    }
   ],
   "source": [
    "optimize.minimize(exact_lik(monthly_rates), x0 = [0.1, 0.1, 0.1],\n",
    "                 tol = 1.e-14)"
   ]
  },
  {
   "cell_type": "code",
   "execution_count": 33,
   "metadata": {},
   "outputs": [
    {
     "name": "stderr",
     "output_type": "stream",
     "text": [
      "C:\\Users\\Jordan\\anaconda3\\lib\\site-packages\\ipykernel_launcher.py:16: RuntimeWarning: invalid value encountered in double_scalars\n",
      "  app.launch_new_instance()\n"
     ]
    },
    {
     "data": {
      "text/plain": [
       "      fun: nan\n",
       " hess_inv: array([[1, 0, 0],\n",
       "       [0, 1, 0],\n",
       "       [0, 0, 1]])\n",
       "      jac: array([nan, nan, nan])\n",
       "  message: 'NaN result encountered.'\n",
       "     nfev: 5\n",
       "      nit: 0\n",
       "     njev: 1\n",
       "   status: 3\n",
       "  success: False\n",
       "        x: array([0.1, 0.1, 0.1])"
      ]
     },
     "execution_count": 33,
     "metadata": {},
     "output_type": "execute_result"
    }
   ],
   "source": [
    "optimize.minimize(exact_lik(monthly_yields), x0 = [0.1, 0.1, 0.1],\n",
    "                 tol = 1.e-14)"
   ]
  },
  {
   "cell_type": "code",
   "execution_count": null,
   "metadata": {},
   "outputs": [],
   "source": []
  }
 ],
 "metadata": {
  "kernelspec": {
   "display_name": "Python 3",
   "language": "python",
   "name": "python3"
  },
  "language_info": {
   "codemirror_mode": {
    "name": "ipython",
    "version": 3
   },
   "file_extension": ".py",
   "mimetype": "text/x-python",
   "name": "python",
   "nbconvert_exporter": "python",
   "pygments_lexer": "ipython3",
   "version": "3.7.6"
  }
 },
 "nbformat": 4,
 "nbformat_minor": 5
}
