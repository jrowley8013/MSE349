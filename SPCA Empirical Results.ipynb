{
 "cells": [
  {
   "cell_type": "code",
   "execution_count": 28,
   "metadata": {},
   "outputs": [],
   "source": [
    "import pandas as pd\n",
    "import scipy.linalg as la\n",
    "import numpy as np"
   ]
  },
  {
   "cell_type": "markdown",
   "metadata": {},
   "source": [
    "## 1.  Verifying the Eigenvalues of the raw Fred-MD sample Covariance Matrix (Table 3)"
   ]
  },
  {
   "cell_type": "markdown",
   "metadata": {},
   "source": [
    "#### Obtain Fred-MD data 1960:01 to 2019:12 (untransformed)"
   ]
  },
  {
   "cell_type": "code",
   "execution_count": 22,
   "metadata": {},
   "outputs": [],
   "source": [
    "fred_md = pd.read_csv('2020-02.csv')[13:733]   # slice dates from 1960:01 to 2019:12\n",
    "fred_md = fred_md.dropna(axis = 1)\n",
    "fred_md = fred_md.drop(columns = ['sasdate'])  # remove data column and any columns with NaN: should have 123 left"
   ]
  },
  {
   "cell_type": "code",
   "execution_count": 83,
   "metadata": {},
   "outputs": [
    {
     "data": {
      "text/plain": [
       "array([8.40968302e-01, 1.12069198e-01, 3.44780639e-02, 7.07799728e-03,\n",
       "       4.15589695e-03, 6.62499657e-04, 4.13438623e-04, 1.03499729e-04,\n",
       "       4.38168572e-05, 1.61299319e-05, 7.13945360e-06, 1.92077904e-06,\n",
       "       1.34647765e-06, 3.39359798e-07, 1.63313145e-07])"
      ]
     },
     "execution_count": 83,
     "metadata": {},
     "output_type": "execute_result"
    }
   ],
   "source": [
    "# now we obtain our T x T corr matrix\n",
    "\n",
    "corrmat = (fred_md.transpose()).corr()\n",
    "np.real(la.eig(corrmat)[0][0:15]) / sum(np.real(la.eig(corrmat)[0]))  # hope to see 0.15, 0.07, 0.07... \n",
    "                                                                            # but sadly the first evalue is 84%"
   ]
  },
  {
   "cell_type": "code",
   "execution_count": 84,
   "metadata": {},
   "outputs": [
    {
     "data": {
      "text/plain": [
       "array([9.07943876e-01, 8.15318326e-02, 4.23675683e-03, 2.96192703e-03,\n",
       "       1.90759085e-03, 1.01946042e-03, 2.61493069e-04, 1.00140640e-04,\n",
       "       1.83489631e-05, 1.23645343e-05, 4.81562454e-06, 8.38764002e-07,\n",
       "       1.98581346e-07, 1.78636014e-07, 4.80770271e-08])"
      ]
     },
     "execution_count": 84,
     "metadata": {},
     "output_type": "execute_result"
    }
   ],
   "source": [
    "# try covariance matrix of the demeaned data (as discussed in the paper)\n",
    "fred_md_demeaned = fred_md - fred_md.mean(axis = 0)\n",
    "covmat = (fred_md_demeaned.transpose()).cov()\n",
    "np.real(la.eig(covmat)[0][0:15]) / sum(np.real(la.eig(covmat)[0]))\n",
    "# even more off:  first evalue is 90% of the variance"
   ]
  },
  {
   "cell_type": "code",
   "execution_count": 96,
   "metadata": {},
   "outputs": [
    {
     "data": {
      "text/plain": [
       "array([0.53486067, 0.13757462, 0.11223052, 0.07946576, 0.03299551,\n",
       "       0.02189214, 0.01706634, 0.01320229, 0.00811908, 0.00713016,\n",
       "       0.00551023, 0.0041493 , 0.00306513, 0.00260621, 0.00225538])"
      ]
     },
     "execution_count": 96,
     "metadata": {},
     "output_type": "execute_result"
    }
   ],
   "source": [
    "# now for covariance matrix with standardized data\n",
    "fred_md_std = fred_md_demeaned / fred_md_demeaned.std(axis = 0)\n",
    "covmat = (fred_md_std.transpose()).cov()\n",
    "np.real(la.eig(covmat)[0][0:15]) / sum(np.real(la.eig(covmat)[0])) # 53% for first evalue"
   ]
  },
  {
   "cell_type": "code",
   "execution_count": 97,
   "metadata": {},
   "outputs": [
    {
     "data": {
      "text/plain": [
       "array([0.44882796, 0.17045972, 0.11790566, 0.09133219, 0.05422066,\n",
       "       0.0217201 , 0.01700157, 0.01485536, 0.01218706, 0.01015413,\n",
       "       0.00682084, 0.00395083, 0.00339551, 0.00296879, 0.0026544 ])"
      ]
     },
     "execution_count": 97,
     "metadata": {},
     "output_type": "execute_result"
    }
   ],
   "source": [
    "# correlation matrix with standardized data\n",
    "corrmat = (fred_md_std.transpose()).corr()\n",
    "np.real(la.eig(corrmat)[0][0:15]) / sum(np.real(la.eig(corrmat)[0])) # 44% for first evalue"
   ]
  },
  {
   "cell_type": "markdown",
   "metadata": {},
   "source": [
    "#### Try with Transformed Fred-MD data"
   ]
  },
  {
   "cell_type": "code",
   "execution_count": 67,
   "metadata": {},
   "outputs": [],
   "source": [
    "transf_fred_md = pd.read_csv('transformed_fred_md.csv')[12:732]\n",
    "transf_fred_md = transf_fred_md.dropna(axis = 1)\n",
    "# remove data column and any columns with NaN: should have 123 left\n",
    "transf_fred_md = transf_fred_md.drop(columns = ['Unnamed: 0','date'])\n",
    "\n",
    "transf_fred_md_dm = transf_fred_md - transf_fred_md.mean(axis = 0)  #demean data\n"
   ]
  },
  {
   "cell_type": "code",
   "execution_count": 81,
   "metadata": {},
   "outputs": [
    {
     "data": {
      "text/plain": [
       "array([9.57860413e-01, 2.43652606e-02, 4.45816391e-03, 3.90451701e-03,\n",
       "       2.45643102e-03, 1.89468833e-03, 1.26862849e-03, 8.10363407e-04,\n",
       "       5.63294652e-04, 3.79600290e-04, 3.40678346e-04, 3.12705102e-04,\n",
       "       3.08105561e-04, 1.98816586e-04, 1.51522797e-04])"
      ]
     },
     "execution_count": 81,
     "metadata": {},
     "output_type": "execute_result"
    }
   ],
   "source": [
    "# now we obtain our T x T corr matrix\n",
    "corrmat = (transf_fred_md_dm.transpose()).corr()\n",
    "np.real(la.eig(corrmat)[0][0:15]) / sum(np.real(la.eig(corrmat)[0]))  # hope to see 0.15, 0.07, 0.07... \n",
    "    # but we obtain 96%, 2% ... "
   ]
  },
  {
   "cell_type": "code",
   "execution_count": 79,
   "metadata": {},
   "outputs": [
    {
     "data": {
      "text/plain": [
       "array([9.99346544e-01, 4.24853704e-04, 4.50112620e-05, 3.85590319e-05,\n",
       "       3.82983007e-05, 2.82877955e-05, 2.26075594e-05, 1.26339436e-05,\n",
       "       1.02472617e-05, 6.32258717e-06, 5.61465751e-06, 4.47940620e-06,\n",
       "       2.97864324e-06, 2.25720083e-06])"
      ]
     },
     "execution_count": 79,
     "metadata": {},
     "output_type": "execute_result"
    }
   ],
   "source": [
    "# covmat isn't better\n",
    "# try cov matrix instead\n",
    "covmat = (transf_fred_md_dm.transpose()).cov()\n",
    "np.real(la.eig(covmat)[0][0:14]) / sum(np.real(la.eig(covmat)[0]))  # hope to see 0.15, 0.07, 0.07... \n",
    "    # but we obtain 99%, 7% ... "
   ]
  },
  {
   "cell_type": "markdown",
   "metadata": {},
   "source": [
    "####  Try With Standardized Transformed Data"
   ]
  },
  {
   "cell_type": "code",
   "execution_count": 80,
   "metadata": {},
   "outputs": [
    {
     "data": {
      "text/plain": [
       "array([0.09226589, 0.07182485, 0.05372628, 0.04877095, 0.03993833,\n",
       "       0.03867294, 0.03059177, 0.02836955, 0.02510283, 0.02310021,\n",
       "       0.02047801, 0.01989555, 0.01936003, 0.01809405, 0.01772255])"
      ]
     },
     "execution_count": 80,
     "metadata": {},
     "output_type": "execute_result"
    }
   ],
   "source": [
    "transf_fred_md_std = transf_fred_md_dm /  transf_fred_md_dm.std(axis = 0)  #standardize data\n",
    "corrmat = (transf_fred_md_std.transpose()).corr()\n",
    "np.real(la.eig(corrmat)[0][0:15]) / sum(np.real(la.eig(corrmat)[0]))   # definitely more on the mark"
   ]
  },
  {
   "cell_type": "markdown",
   "metadata": {},
   "source": [
    "####  Covariance Matrix with Standardized Transformed Data (closest result)"
   ]
  },
  {
   "cell_type": "code",
   "execution_count": 99,
   "metadata": {},
   "outputs": [
    {
     "data": {
      "text/plain": [
       "array([0.11627361, 0.07696151, 0.06383539, 0.05956196, 0.04262623,\n",
       "       0.03677942, 0.03124726, 0.02610181, 0.02341117, 0.02164078,\n",
       "       0.02113563, 0.01823705, 0.01790056, 0.01683962, 0.01653045])"
      ]
     },
     "execution_count": 99,
     "metadata": {},
     "output_type": "execute_result"
    }
   ],
   "source": [
    "# try covariance matrix instead\n",
    "covmat = (transf_fred_md_std.transpose()).cov()\n",
    "np.real(la.eig(covmat)[0][0:15]) / sum(np.real(la.eig(covmat)[0])) # even closer: 11%, 7%, ..."
   ]
  },
  {
   "cell_type": "markdown",
   "metadata": {},
   "source": [
    "## 2.  Verifying the Eigenvalues of the Scaled Factor Matrices (Table 3)"
   ]
  },
  {
   "cell_type": "code",
   "execution_count": null,
   "metadata": {},
   "outputs": [],
   "source": []
  }
 ],
 "metadata": {
  "kernelspec": {
   "display_name": "Python 3",
   "language": "python",
   "name": "python3"
  },
  "language_info": {
   "codemirror_mode": {
    "name": "ipython",
    "version": 3
   },
   "file_extension": ".py",
   "mimetype": "text/x-python",
   "name": "python",
   "nbconvert_exporter": "python",
   "pygments_lexer": "ipython3",
   "version": "3.7.6"
  }
 },
 "nbformat": 4,
 "nbformat_minor": 4
}
