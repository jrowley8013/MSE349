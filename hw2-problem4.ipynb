{
 "cells": [
  {
   "cell_type": "code",
   "execution_count": 24,
   "id": "hidden-forest",
   "metadata": {},
   "outputs": [],
   "source": [
    "import numpy as np\n",
    "from arch import arch_model\n",
    "import numpy as np\n",
    "from scipy import optimize\n",
    "from scipy.stats import norm\n",
    "from scipy import special\n",
    "import pandas as pd\n",
    "import matplotlib.pyplot as plt"
   ]
  },
  {
   "cell_type": "code",
   "execution_count": 10,
   "id": "compact-harvey",
   "metadata": {},
   "outputs": [],
   "source": [
    "import matplotlib.pyplot as plt"
   ]
  },
  {
   "cell_type": "markdown",
   "id": "seven-neighbor",
   "metadata": {},
   "source": [
    "## Read in data"
   ]
  },
  {
   "cell_type": "code",
   "execution_count": 11,
   "id": "indonesian-exposure",
   "metadata": {},
   "outputs": [],
   "source": [
    "import pandas as pd"
   ]
  },
  {
   "cell_type": "code",
   "execution_count": 12,
   "id": "continent-dominant",
   "metadata": {},
   "outputs": [],
   "source": [
    "daily_sp500_returns = pd.read_fwf(\"daily_sp500_ret.txt\").to_numpy()[4:]\n",
    "monthly_sp500_returns = pd.read_fwf(\"monthly_sp500_ret.txt\").to_numpy()[4:]"
   ]
  },
  {
   "cell_type": "code",
   "execution_count": 13,
   "id": "overall-johns",
   "metadata": {},
   "outputs": [
    {
     "ename": "NameError",
     "evalue": "name 'monthly_garch_model_11' is not defined",
     "output_type": "error",
     "traceback": [
      "\u001b[0;31m---------------------------------------------------------------------------\u001b[0m",
      "\u001b[0;31mNameError\u001b[0m                                 Traceback (most recent call last)",
      "\u001b[0;32m<ipython-input-13-b7f9b479698f>\u001b[0m in \u001b[0;36m<module>\u001b[0;34m\u001b[0m\n\u001b[1;32m      1\u001b[0m \u001b[0msp500_monthly_garch_model_11\u001b[0m \u001b[0;34m=\u001b[0m \u001b[0march_model\u001b[0m\u001b[0;34m(\u001b[0m\u001b[0mmonthly_sp500_returns\u001b[0m\u001b[0;34m[\u001b[0m\u001b[0;34m:\u001b[0m\u001b[0;34m,\u001b[0m\u001b[0;36m1\u001b[0m\u001b[0;34m]\u001b[0m\u001b[0;34m,\u001b[0m \u001b[0mvol\u001b[0m\u001b[0;34m=\u001b[0m\u001b[0;34m'Garch'\u001b[0m\u001b[0;34m,\u001b[0m \u001b[0mp\u001b[0m\u001b[0;34m=\u001b[0m\u001b[0;36m1\u001b[0m\u001b[0;34m,\u001b[0m \u001b[0mo\u001b[0m\u001b[0;34m=\u001b[0m\u001b[0;36m0\u001b[0m\u001b[0;34m,\u001b[0m \u001b[0mq\u001b[0m\u001b[0;34m=\u001b[0m\u001b[0;36m1\u001b[0m\u001b[0;34m)\u001b[0m\u001b[0;34m\u001b[0m\u001b[0;34m\u001b[0m\u001b[0m\n\u001b[0;32m----> 2\u001b[0;31m \u001b[0msp500_monthly_garch_fitted\u001b[0m \u001b[0;34m=\u001b[0m \u001b[0mmonthly_garch_model_11\u001b[0m\u001b[0;34m.\u001b[0m\u001b[0mfit\u001b[0m\u001b[0;34m(\u001b[0m\u001b[0;34m)\u001b[0m\u001b[0;34m\u001b[0m\u001b[0;34m\u001b[0m\u001b[0m\n\u001b[0m",
      "\u001b[0;31mNameError\u001b[0m: name 'monthly_garch_model_11' is not defined"
     ]
    }
   ],
   "source": [
    "sp500_monthly_garch_model_11 = arch_model(monthly_sp500_returns[:,1], vol='Garch', p=1, o=0, q=1)\n",
    "sp500_monthly_garch_fitted = monthly_garch_model_11.fit()"
   ]
  },
  {
   "cell_type": "code",
   "execution_count": null,
   "id": "consolidated-toner",
   "metadata": {},
   "outputs": [],
   "source": [
    "sp500_monthly_garch_fitted.params"
   ]
  },
  {
   "cell_type": "code",
   "execution_count": null,
   "id": "every-obligation",
   "metadata": {},
   "outputs": [],
   "source": []
  },
  {
   "cell_type": "code",
   "execution_count": null,
   "id": "published-healthcare",
   "metadata": {},
   "outputs": [],
   "source": []
  },
  {
   "cell_type": "markdown",
   "id": "improving-article",
   "metadata": {},
   "source": [
    "# Problem 4"
   ]
  },
  {
   "cell_type": "code",
   "execution_count": 14,
   "id": "explicit-cliff",
   "metadata": {},
   "outputs": [],
   "source": [
    "def simulate_euler_CIR(kappa, theta, sigma2, nsteps):\n",
    "    dt = 1/250.0\n",
    "    rates = np.zeros(nsteps)\n",
    "    rates[0] = theta\n",
    "    noise = np.random.normal(0, np.sqrt(dt), size=nsteps)\n",
    "    for t in range(1, nsteps):\n",
    "        rates[t] = abs(rates[t-1] + kappa*(theta - rates[t-1])*dt + np.sqrt(sigma2*rates[t-1])*noise[t])\n",
    "    return rates"
   ]
  },
  {
   "cell_type": "code",
   "execution_count": 15,
   "id": "indian-secretariat",
   "metadata": {},
   "outputs": [],
   "source": [
    "rates = simulate_euler_CIR(kappa=0.234, theta=0.081, sigma2=0.0073, nsteps=100000)"
   ]
  },
  {
   "cell_type": "code",
   "execution_count": 16,
   "id": "careful-trial",
   "metadata": {},
   "outputs": [
    {
     "data": {
      "text/plain": [
       "[<matplotlib.lines.Line2D at 0x1a20521908>]"
      ]
     },
     "execution_count": 16,
     "metadata": {},
     "output_type": "execute_result"
    },
    {
     "data": {
      "image/png": "[encoded data removed]",
      "text/plain": [
       "<Figure size 432x288 with 1 Axes>"
      ]
     },
     "metadata": {
      "needs_background": "light"
     },
     "output_type": "display_data"
    }
   ],
   "source": [
    "plt.plot(rates)"
   ]
  },
  {
   "cell_type": "code",
   "execution_count": 17,
   "id": "another-auditor",
   "metadata": {},
   "outputs": [
    {
     "data": {
      "text/plain": [
       "(400,)"
      ]
     },
     "execution_count": 17,
     "metadata": {},
     "output_type": "execute_result"
    }
   ],
   "source": [
    "monthly_rates = rates[::250]\n",
    "monthly_rates.shape"
   ]
  },
  {
   "cell_type": "markdown",
   "id": "emotional-strip",
   "metadata": {},
   "source": [
    "$$\\epsilon_{k+1} - E{\\epsilon_{k+1}|F_k} = 0$$\n",
    "$$r_{k+1} - r_k - \\kappa(\\theta - r_t) \\delta_k = 0$$"
   ]
  },
  {
   "cell_type": "code",
   "execution_count": 18,
   "id": "growing-revelation",
   "metadata": {},
   "outputs": [],
   "source": [
    "\n",
    "# define moment functions\n",
    "\n",
    "def g1(pv, data, dt=1):\n",
    "    theta, kappa, sig2 = pv\n",
    "    return data[1:] - data[:-1] - kappa*(theta - data[:-1])*dt\n",
    "\n",
    "def g2(pv, data, dt=1):\n",
    "    theta, kappa, sig2 = pv\n",
    "    return data[:-1]*g1(pv, data)\n",
    "\n",
    "def g3(pv, data, dt=1):\n",
    "    theta, kappa, sig2 = pv\n",
    "    return (g1(pv, data))**2 - sig2*data[:-1]*dt\n",
    "\n",
    "def g4(pv, data, dt=1):\n",
    "    theta, kappa, sig2 = pv\n",
    "    return data[:-1] * g3(pv, data) - sig2*(data[:-1]**2)*dt"
   ]
  },
  {
   "cell_type": "code",
   "execution_count": 19,
   "id": "clear-dispatch",
   "metadata": {},
   "outputs": [],
   "source": [
    "def GMM(moments, param_vect, data, n_iter=1):\n",
    "    results = []\n",
    "    W = np.eye(len(moments))\n",
    "    \n",
    "    def G(W):\n",
    "        def inner(pv):\n",
    "            moment_means = np.mean(np.array([g(pv, data) for g in moments]), axis=1)\n",
    "            retval = moment_means @ W @ moment_means\n",
    "            return retval\n",
    "        return inner\n",
    "    \n",
    "    res = optimize.minimize(G(W), x0 = param_vect, method = 'BFGS', tol = 1.e-9)\n",
    "    \n",
    "    res = res.x\n",
    "    results.append(res.copy())\n",
    "    for _ in range(n_iter):\n",
    "        \n",
    "        S = np.zeros_like(W)\n",
    "        for t in range(data.shape[0]-1):\n",
    "            moments_t = np.array([g(res, data[t:t+2]) for g in moments])\n",
    "            \n",
    "            S += np.outer(moments_t, moments_t)\n",
    "        S /= (data.shape[0]-1)\n",
    "        moment_means = np.array([np.mean(g(res, data)) for g in moments])\n",
    "        S -= np.outer(moment_means, moment_means)\n",
    "        W = np.linalg.inv(S)\n",
    "        res = optimize.minimize(G(W), x0 = param_vect, method = 'BFGS', tol = 1.e-9)\n",
    "        res=res.x\n",
    "        results.append(res.copy())\n",
    "    return results"
   ]
  },
  {
   "cell_type": "code",
   "execution_count": 20,
   "id": "recent-behalf",
   "metadata": {},
   "outputs": [],
   "source": [
    "theta_init = 0.1 #np.mean(monthly_rates)\n",
    "kappa_init = 0.1 #0.234\n",
    "sig2_init = 0.1 #0.0073\n",
    "opt_input = [theta_init, kappa_init, sig2_init]"
   ]
  },
  {
   "cell_type": "code",
   "execution_count": 25,
   "id": "technological-gross",
   "metadata": {},
   "outputs": [],
   "source": [
    "results = GMM([g1, g2, g3, g4], opt_input, monthly_rates, n_iter=10)"
   ]
  },
  {
   "cell_type": "code",
   "execution_count": 26,
   "id": "taken-nylon",
   "metadata": {},
   "outputs": [
    {
     "data": {
      "text/plain": [
       "[array([0.08315011, 0.17488929, 0.00578323]),\n",
       " array([0.07308134, 0.22172589, 0.00273418]),\n",
       " array([0.06746998, 0.2333932 , 0.00103607]),\n",
       " array([0.06363814, 0.211677  , 0.00075267]),\n",
       " array([0.06209988, 0.20260548, 0.00080989]),\n",
       " array([0.06174568, 0.20174722, 0.00081742]),\n",
       " array([0.0616399 , 0.20167805, 0.00081786]),\n",
       " array([0.06160264, 0.20166484, 0.00081786]),\n",
       " array([0.06158915, 0.20166007, 0.00081786]),\n",
       " array([0.06158426, 0.20165829, 0.00081786]),\n",
       " array([0.06158249, 0.20165764, 0.00081786])]"
      ]
     },
     "execution_count": 26,
     "metadata": {},
     "output_type": "execute_result"
    }
   ],
   "source": [
    "results"
   ]
  },
  {
   "cell_type": "code",
   "execution_count": 27,
   "id": "lightweight-asbestos",
   "metadata": {},
   "outputs": [],
   "source": [
    "def QML_G(data):\n",
    "    def qml(pv):\n",
    "        theta, kappa, sig2 = pv\n",
    "        lik = 0\n",
    "        for i in range(data.shape[0]-1):\n",
    "            lik += norm.logpdf(data[i + 1], data[i] + kappa*(theta - data[i]), \n",
    "                        np.sqrt(abs(sig2) * data[i]))\n",
    "        return -lik\n",
    "    return qml"
   ]
  },
  {
   "cell_type": "code",
   "execution_count": 28,
   "id": "fiscal-matter",
   "metadata": {},
   "outputs": [
    {
     "data": {
      "text/plain": [
       "      fun: -973.8431804454634\n",
       " hess_inv: array([[ 3.07367275e-05, -2.46350382e-04, -1.30351290e-07],\n",
       "       [-2.46350382e-04,  1.98817701e-03,  3.73514100e-07],\n",
       "       [-1.30351290e-07,  3.73514100e-07,  1.73118615e-07]])\n",
       "      jac: array([7.62939453e-06, 3.05175781e-05, 3.05175781e-05])\n",
       "  message: 'Desired error not necessarily achieved due to precision loss.'\n",
       "     nfev: 266\n",
       "      nit: 13\n",
       "     njev: 64\n",
       "   status: 2\n",
       "  success: False\n",
       "        x: array([0.08322254, 0.20302147, 0.0058607 ])"
      ]
     },
     "execution_count": 28,
     "metadata": {},
     "output_type": "execute_result"
    }
   ],
   "source": [
    "optimize.minimize(QML_G(monthly_rates), x0 = [0.1, 0.1, 0.1])  # looks good: hess_inv is our covariance matrix"
   ]
  },
  {
   "cell_type": "code",
   "execution_count": 29,
   "id": "lonely-iceland",
   "metadata": {},
   "outputs": [],
   "source": [
    "yts = 2 * np.sqrt(monthly_rates)"
   ]
  },
  {
   "cell_type": "code",
   "execution_count": 38,
   "id": "least-carol",
   "metadata": {},
   "outputs": [],
   "source": [
    "def SO_lik(yts):\n",
    "    def like(pv):\n",
    "        theta, kappa, sig2 = pv\n",
    "        A = (2/yts[:-1])*(kappa*theta - (sig2)/4) - kappa*(yts[:-1])/2 \n",
    "        B = (-2/(yts[:-1]**2)) * (kappa*theta - (sig2)/4) - kappa/2\n",
    "        C = (4/(yts[:-1]**3)) * (kappa*theta - (sig2)/4)\n",
    "\n",
    "        K = np.exp(B) - 1\n",
    "\n",
    "        M = yts[:-1] + (A/B)*K + ((sig2) * C)/(2 * (B**2))*(K - B)\n",
    "        V = (sig2)/(2*B) * (np.exp(2*B) - 1)\n",
    "\n",
    "        lik = 0\n",
    "        for i in range(yts.shape[0] -1):\n",
    "            lik -= -((yts[i + 1] - M[i])**2) / (2*V[i]) - (1/2)*np.log(2*np.pi*V[i])\n",
    "        return lik\n",
    "    return like"
   ]
  },
  {
   "cell_type": "code",
   "execution_count": 39,
   "id": "social-blond",
   "metadata": {},
   "outputs": [
    {
     "data": {
      "text/plain": [
       "      fun: -465.9819700723568\n",
       " hess_inv: <3x3 LbfgsInvHessProduct with dtype=float64>\n",
       "      jac: array([-1.13686838e-05,  3.41060513e-05,  5.40012479e-04])\n",
       "  message: b'ABNORMAL_TERMINATION_IN_LNSRCH'\n",
       "     nfev: 220\n",
       "      nit: 16\n",
       "     njev: 55\n",
       "   status: 2\n",
       "  success: False\n",
       "        x: array([0.08311736, 0.23470817, 0.00717133])"
      ]
     },
     "execution_count": 39,
     "metadata": {},
     "output_type": "execute_result"
    }
   ],
   "source": [
    "optimize.minimize(SO_lik(yts), x0 = [0.1, 0.1, 0.1],\n",
    "                  bounds = [(0.0, 1), (0.0, 1), (1e-15, 1)], tol = 1.e-14)"
   ]
  },
  {
   "cell_type": "code",
   "execution_count": 40,
   "id": "cardiovascular-underground",
   "metadata": {},
   "outputs": [
    {
     "data": {
      "text/plain": [
       "-318.5878083933145"
      ]
     },
     "execution_count": 40,
     "metadata": {},
     "output_type": "execute_result"
    }
   ],
   "source": [
    "SO_lik(yts)([0.05, 0.1, 0.05**2])"
   ]
  },
  {
   "cell_type": "code",
   "execution_count": 41,
   "id": "neural-estate",
   "metadata": {},
   "outputs": [
    {
     "data": {
      "text/plain": [
       "-465.98197007223746"
      ]
     },
     "execution_count": 41,
     "metadata": {},
     "output_type": "execute_result"
    }
   ],
   "source": [
    "SO_lik(yts)([0.08311736, 0.23470817, 0.00717133])"
   ]
  },
  {
   "cell_type": "code",
   "execution_count": null,
   "id": "driving-michael",
   "metadata": {},
   "outputs": [],
   "source": []
  }
 ],
 "metadata": {
  "kernelspec": {
   "display_name": "Python 3",
   "language": "python",
   "name": "python3"
  },
  "language_info": {
   "codemirror_mode": {
    "name": "ipython",
    "version": 3
   },
   "file_extension": ".py",
   "mimetype": "text/x-python",
   "name": "python",
   "nbconvert_exporter": "python",
   "pygments_lexer": "ipython3",
   "version": "3.6.12"
  }
 },
 "nbformat": 4,
 "nbformat_minor": 5
}
