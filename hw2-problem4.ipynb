{
 "cells": [
  {
   "cell_type": "code",
   "execution_count": 13,
   "metadata": {},
   "outputs": [],
   "source": [
    "import numpy as np\n",
    "from arch import arch_model\n",
    "import numpy as np\n",
    "from scipy import optimize\n",
    "from scipy.stats import norm\n",
    "from scipy import special\n",
    "import pandas as pd\n",
    "import matplotlib.pyplot as plt"
   ]
  },
  {
   "cell_type": "code",
   "execution_count": 4,
   "metadata": {},
   "outputs": [],
   "source": [
    "import matplotlib.pyplot as plt"
   ]
  },
  {
   "cell_type": "markdown",
   "metadata": {},
   "source": [
    "## Read in data"
   ]
  },
  {
   "cell_type": "code",
   "execution_count": 11,
   "metadata": {},
   "outputs": [],
   "source": [
    "import pandas as pd"
   ]
  },
  {
   "cell_type": "code",
   "execution_count": 12,
   "metadata": {},
   "outputs": [],
   "source": [
    "daily_sp500_returns = pd.read_fwf(\"daily_sp500_ret.txt\").to_numpy()[4:]\n",
    "monthly_sp500_returns = pd.read_fwf(\"monthly_sp500_ret.txt\").to_numpy()[4:]"
   ]
  },
  {
   "cell_type": "code",
   "execution_count": 13,
   "metadata": {},
   "outputs": [
    {
     "ename": "NameError",
     "evalue": "name 'monthly_garch_model_11' is not defined",
     "output_type": "error",
     "traceback": [
      "\u001b[0;31m---------------------------------------------------------------------------\u001b[0m",
      "\u001b[0;31mNameError\u001b[0m                                 Traceback (most recent call last)",
      "\u001b[0;32m<ipython-input-13-b7f9b479698f>\u001b[0m in \u001b[0;36m<module>\u001b[0;34m\u001b[0m\n\u001b[1;32m      1\u001b[0m \u001b[0msp500_monthly_garch_model_11\u001b[0m \u001b[0;34m=\u001b[0m \u001b[0march_model\u001b[0m\u001b[0;34m(\u001b[0m\u001b[0mmonthly_sp500_returns\u001b[0m\u001b[0;34m[\u001b[0m\u001b[0;34m:\u001b[0m\u001b[0;34m,\u001b[0m\u001b[0;36m1\u001b[0m\u001b[0;34m]\u001b[0m\u001b[0;34m,\u001b[0m \u001b[0mvol\u001b[0m\u001b[0;34m=\u001b[0m\u001b[0;34m'Garch'\u001b[0m\u001b[0;34m,\u001b[0m \u001b[0mp\u001b[0m\u001b[0;34m=\u001b[0m\u001b[0;36m1\u001b[0m\u001b[0;34m,\u001b[0m \u001b[0mo\u001b[0m\u001b[0;34m=\u001b[0m\u001b[0;36m0\u001b[0m\u001b[0;34m,\u001b[0m \u001b[0mq\u001b[0m\u001b[0;34m=\u001b[0m\u001b[0;36m1\u001b[0m\u001b[0;34m)\u001b[0m\u001b[0;34m\u001b[0m\u001b[0;34m\u001b[0m\u001b[0m\n\u001b[0;32m----> 2\u001b[0;31m \u001b[0msp500_monthly_garch_fitted\u001b[0m \u001b[0;34m=\u001b[0m \u001b[0mmonthly_garch_model_11\u001b[0m\u001b[0;34m.\u001b[0m\u001b[0mfit\u001b[0m\u001b[0;34m(\u001b[0m\u001b[0;34m)\u001b[0m\u001b[0;34m\u001b[0m\u001b[0;34m\u001b[0m\u001b[0m\n\u001b[0m",
      "\u001b[0;31mNameError\u001b[0m: name 'monthly_garch_model_11' is not defined"
     ]
    }
   ],
   "source": [
    "sp500_monthly_garch_model_11 = arch_model(monthly_sp500_returns[:,1], vol='Garch', p=1, o=0, q=1)\n",
    "sp500_monthly_garch_fitted = monthly_garch_model_11.fit()"
   ]
  },
  {
   "cell_type": "code",
   "execution_count": null,
   "metadata": {},
   "outputs": [],
   "source": [
    "sp500_monthly_garch_fitted.params"
   ]
  },
  {
   "cell_type": "code",
   "execution_count": null,
   "metadata": {},
   "outputs": [],
   "source": []
  },
  {
   "cell_type": "code",
   "execution_count": null,
   "metadata": {},
   "outputs": [],
   "source": []
  },
  {
   "cell_type": "markdown",
   "metadata": {},
   "source": [
    "# Problem 4"
   ]
  },
  {
   "cell_type": "code",
   "execution_count": 48,
   "metadata": {},
   "outputs": [],
   "source": [
    "def simulate_euler_CIR(kappa, theta, sigma2, nsteps):\n",
    "    dt = 1/250.0\n",
    "    rates = np.zeros(nsteps)\n",
    "    rates[0] = theta\n",
    "    noise = np.random.normal(0, np.sqrt(dt), size=nsteps)\n",
    "    for t in range(1, nsteps):\n",
    "        rates[t] = abs(rates[t-1] + kappa*(theta - rates[t-1])*dt + np.sqrt(sigma2*rates[t-1])*noise[t])\n",
    "    return rates"
   ]
  },
  {
   "cell_type": "code",
   "execution_count": 49,
   "metadata": {},
   "outputs": [],
   "source": [
    "rates = simulate_euler_CIR(kappa=0.234, theta=0.081, sigma2=0.0073, nsteps=100000)"
   ]
  },
  {
   "cell_type": "code",
   "execution_count": 50,
   "metadata": {},
   "outputs": [
    {
     "data": {
      "text/plain": [
       "[<matplotlib.lines.Line2D at 0x1f739f46cc8>]"
      ]
     },
     "execution_count": 50,
     "metadata": {},
     "output_type": "execute_result"
    },
    {
     "data": {
      "image/png": "[encoded data removed]",
      "text/plain": [
       "<Figure size 432x288 with 1 Axes>"
      ]
     },
     "metadata": {
      "needs_background": "light"
     },
     "output_type": "display_data"
    }
   ],
   "source": [
    "plt.plot(rates)"
   ]
  },
  {
   "cell_type": "code",
   "execution_count": 51,
   "metadata": {},
   "outputs": [
    {
     "data": {
      "text/plain": [
       "(400,)"
      ]
     },
     "execution_count": 51,
     "metadata": {},
     "output_type": "execute_result"
    }
   ],
   "source": [
    "monthly_rates = rates[::250]\n",
    "monthly_rates.shape"
   ]
  },
  {
   "cell_type": "markdown",
   "metadata": {},
   "source": [
    "$$\\epsilon_{k+1} - E{\\epsilon_{k+1}|F_k} = 0$$\n",
    "$$r_{k+1} - r_k - \\kappa(\\theta - r_t) \\delta_k = 0$$"
   ]
  },
  {
   "cell_type": "code",
   "execution_count": 52,
   "metadata": {},
   "outputs": [],
   "source": [
    "\n",
    "# define moment functions\n",
    "\n",
    "def g1(pv, data, dt=1):\n",
    "    theta, kappa, sig2 = pv\n",
    "    return data[1:] - data[:-1] - kappa*(theta - data[:-1])*dt\n",
    "\n",
    "def g2(pv, data, dt=1):\n",
    "    theta, kappa, sig2 = pv\n",
    "    return data[:-1]*g1(pv, data)\n",
    "\n",
    "def g3(pv, data, dt=1):\n",
    "    theta, kappa, sig2 = pv\n",
    "    return (g1(pv, data))**2 - sig2*data[:-1]*dt\n",
    "\n",
    "def g4(pv, data, dt=1):\n",
    "    theta, kappa, sig2 = pv\n",
    "    return data[:-1] * g3(pv, data) - sig2*(data[:-1]**2)*dt"
   ]
  },
  {
   "cell_type": "code",
   "execution_count": 53,
   "metadata": {},
   "outputs": [],
   "source": [
    "def GMM(moments, param_vect, data, n_iter=1):\n",
    "    results = []\n",
    "    W = np.eye(len(moments))\n",
    "    \n",
    "    def G(W):\n",
    "        def inner(pv):\n",
    "            moment_means = np.mean(np.array([g(pv, data) for g in moments]), axis=1)\n",
    "            retval = moment_means @ W @ moment_means\n",
    "            return retval\n",
    "        return inner\n",
    "    \n",
    "    res = optimize.minimize(G(W), x0 = param_vect, method = 'BFGS', tol = 1.e-9)\n",
    "    \n",
    "    res = res.x\n",
    "    results.append(res.copy())\n",
    "    for _ in range(n_iter):\n",
    "        \n",
    "        S = np.zeros_like(W)\n",
    "        for t in range(data.shape[0]-1):\n",
    "            moments_t = np.array([g(res, data[t:t+2]) for g in moments])\n",
    "            \n",
    "            S += np.outer(moments_t, moments_t)\n",
    "        S /= (data.shape[0]-1)\n",
    "        moment_means = np.array([np.mean(g(res, data)) for g in moments])\n",
    "        S -= np.outer(moment_means, moment_means)\n",
    "        W = np.linalg.inv(S)\n",
    "        res = optimize.minimize(G(W), x0 = param_vect, method = 'BFGS', tol = 1.e-9)\n",
    "        res=res.x\n",
    "        results.append(res.copy())\n",
    "    return results"
   ]
  },
  {
   "cell_type": "code",
   "execution_count": 54,
   "metadata": {},
   "outputs": [],
   "source": [
    "theta_init = 0.1 #np.mean(monthly_rates)\n",
    "kappa_init = 0.1 #0.234\n",
    "sig2_init = 0.1 #0.0073\n",
    "opt_input = [theta_init, kappa_init, sig2_init]"
   ]
  },
  {
   "cell_type": "code",
   "execution_count": 55,
   "metadata": {},
   "outputs": [],
   "source": [
    "results = GMM([g1, g2, g3, g4], opt_input, monthly_rates, n_iter=10)"
   ]
  },
  {
   "cell_type": "code",
   "execution_count": 56,
   "metadata": {},
   "outputs": [
    {
     "data": {
      "text/plain": [
       "[array([0.07594762, 0.17146573, 0.00528497]),\n",
       " array([0.06916681, 0.16241516, 0.0021611 ]),\n",
       " array([0.06516997, 0.16594689, 0.00088804]),\n",
       " array([0.06316851, 0.16784781, 0.00094283]),\n",
       " array([0.06221908, 0.16827138, 0.00092642]),\n",
       " array([0.0617811 , 0.1683883 , 0.00092879]),\n",
       " array([0.06158211, 0.16843955, 0.00092811]),\n",
       " array([0.06149182, 0.16846083, 0.00092816]),\n",
       " array([0.06145097, 0.16847061, 0.00092812]),\n",
       " array([0.06143248, 0.16847498, 0.00092811]),\n",
       " array([0.06142411, 0.16847696, 0.0009281 ])]"
      ]
     },
     "execution_count": 56,
     "metadata": {},
     "output_type": "execute_result"
    }
   ],
   "source": [
    "results"
   ]
  },
  {
   "cell_type": "code",
   "execution_count": 23,
   "metadata": {},
   "outputs": [],
   "source": [
    "def QML_G(data):\n",
    "    def qml(pv):\n",
    "        theta, kappa, sig2 = pv\n",
    "        lik = 0\n",
    "        for i in range(data.shape[0]-1):\n",
    "            lik += norm.logpdf(data[i + 1], data[i] + kappa*(theta - data[i]), \n",
    "                        np.sqrt(abs(sig2) * data[i]))\n",
    "        return -lik\n",
    "    return qml"
   ]
  },
  {
   "cell_type": "code",
   "execution_count": 24,
   "metadata": {},
   "outputs": [
    {
     "data": {
      "text/plain": [
       "      fun: -987.5728118258288\n",
       " hess_inv: array([[1.23066088e-04, 1.01448862e-04, 4.39806127e-06],\n",
       "       [1.01448862e-04, 8.36577886e-05, 3.57834113e-06],\n",
       "       [4.39806127e-06, 3.57834113e-06, 3.45904515e-07]])\n",
       "      jac: array([0.00049591, 0.00010681, 0.0034256 ])\n",
       "  message: 'Desired error not necessarily achieved due to precision loss.'\n",
       "     nfev: 141\n",
       "      nit: 12\n",
       "     njev: 28\n",
       "   status: 2\n",
       "  success: False\n",
       "        x: array([0.07934701, 0.20199167, 0.00571348])"
      ]
     },
     "execution_count": 24,
     "metadata": {},
     "output_type": "execute_result"
    }
   ],
   "source": [
    "optimize.minimize(QML_G(monthly_rates), x0 = [0.1, 0.1, 0.1])  # looks good: hess_inv is our covariance matrix"
   ]
  },
  {
   "cell_type": "code",
   "execution_count": 25,
   "metadata": {},
   "outputs": [],
   "source": [
    "yts = 2 * np.sqrt(monthly_rates)"
   ]
  },
  {
   "cell_type": "code",
   "execution_count": 26,
   "metadata": {},
   "outputs": [],
   "source": [
    "def SO_lik(yts):\n",
    "    def like(pv):\n",
    "        theta, kappa, sig2 = pv\n",
    "        A = (2/yts[:-1])*(kappa*theta - (sig2)/4) - kappa*(yts[:-1])/2 \n",
    "        B = (-2/(yts[:-1]**2)) * (kappa*theta - (sig2)/4) - kappa/2\n",
    "        C = (4/(yts[:-1]**3)) * (kappa*theta - (sig2)/4)\n",
    "\n",
    "        K = np.exp(B) - 1\n",
    "\n",
    "        M = yts[:-1] + (A/B)*K + ((sig2) * C)/(2 * (B**2))*(K - B)\n",
    "        V = (sig2)/(2*B) * (np.exp(2*B) - 1)\n",
    "\n",
    "        lik = 0\n",
    "        for i in range(yts.shape[0] -1):\n",
    "            lik -= -((yts[i + 1] - M[i])**2) / (2*V[i]) - (1/2)*np.log(2*np.pi*V[i])\n",
    "        return lik\n",
    "    return like"
   ]
  },
  {
   "cell_type": "code",
   "execution_count": 27,
   "metadata": {},
   "outputs": [
    {
     "data": {
      "text/plain": [
       "      fun: -471.3670331844773\n",
       " hess_inv: <3x3 LbfgsInvHessProduct with dtype=float64>\n",
       "      jac: array([-3.24007488e-04, -3.97903932e-05,  4.84305929e-03])\n",
       "  message: b'CONVERGENCE: REL_REDUCTION_OF_F_<=_FACTR*EPSMCH'\n",
       "     nfev: 148\n",
       "      nit: 21\n",
       "   status: 0\n",
       "  success: True\n",
       "        x: array([0.07922579, 0.24011389, 0.00701166])"
      ]
     },
     "execution_count": 27,
     "metadata": {},
     "output_type": "execute_result"
    }
   ],
   "source": [
    "optimize.minimize(SO_lik(yts), x0 = [0.1, 0.1, 0.1],\n",
    "                  bounds = [(0.0, 1), (0.0, 1), (1e-15, 1)], tol = 1.e-14)"
   ]
  },
  {
   "cell_type": "code",
   "execution_count": 40,
   "metadata": {},
   "outputs": [
    {
     "data": {
      "text/plain": [
       "-318.5878083933145"
      ]
     },
     "execution_count": 40,
     "metadata": {},
     "output_type": "execute_result"
    }
   ],
   "source": [
    "SO_lik(yts)([0.05, 0.1, 0.05**2])"
   ]
  },
  {
   "cell_type": "code",
   "execution_count": 41,
   "metadata": {},
   "outputs": [
    {
     "data": {
      "text/plain": [
       "-465.98197007223746"
      ]
     },
     "execution_count": 41,
     "metadata": {},
     "output_type": "execute_result"
    }
   ],
   "source": [
    "SO_lik(yts)([0.08311736, 0.23470817, 0.00717133])"
   ]
  },
  {
   "cell_type": "code",
   "execution_count": 33,
   "metadata": {},
   "outputs": [],
   "source": [
    "#4. Exact Likelihood\n",
    "def exact_lik(yts):\n",
    "    def e_like(pv):\n",
    "        theta = pv[0]\n",
    "        kappa = pv[1]\n",
    "        sig = pv[2]\n",
    "        lik = 0\n",
    "    \n",
    "        c = (2 * kappa) / ((sig**2) * (1 - np.exp(-kappa)) )\n",
    "        u = c * monthly_rates * np.exp(-kappa)\n",
    "        v = c * monthly_rates\n",
    "        q = (2 * kappa * theta) / (sig**2) - 1\n",
    "     \n",
    "        for i in range(yts.shape[0] -1):\n",
    "            lik += np.log(c * np.exp(-(u[i] + v[i + 1])) * (v[i + 1] / u[i])**(q / 2) \n",
    "                    * special.iv(q, 2*np.sqrt(u[i] * v[i + 1])))\n",
    "        return -lik\n",
    "    return e_like\n",
    "\n"
   ]
  },
  {
   "cell_type": "code",
   "execution_count": 34,
   "metadata": {},
   "outputs": [
    {
     "data": {
      "text/plain": [
       "      fun: -994.8018226968708\n",
       " hess_inv: array([[ 2.06853969e-05, -6.76733263e-06,  2.05227423e-06],\n",
       "       [-6.76733263e-06,  4.33177585e-04,  2.62672967e-05],\n",
       "       [ 2.05227423e-06,  2.62672967e-05,  1.00597570e-05]])\n",
       "      jac: array([ 5.34057617e-05,  2.28881836e-05, -9.91821289e-05])\n",
       "  message: 'Desired error not necessarily achieved due to precision loss.'\n",
       "     nfev: 81\n",
       "      nit: 9\n",
       "     njev: 16\n",
       "   status: 2\n",
       "  success: False\n",
       "        x: array([0.07936261, 0.24207133, 0.08387675])"
      ]
     },
     "execution_count": 34,
     "metadata": {},
     "output_type": "execute_result"
    }
   ],
   "source": [
    "optimize.minimize(exact_lik(yts), x0 = [0.1, 0.1, 0.1],\n",
    "                 tol = 1.e-14)"
   ]
  },
  {
   "cell_type": "code",
   "execution_count": null,
   "metadata": {},
   "outputs": [],
   "source": []
  }
 ],
 "metadata": {
  "kernelspec": {
   "display_name": "Python 3",
   "language": "python",
   "name": "python3"
  },
  "language_info": {
   "codemirror_mode": {
    "name": "ipython",
    "version": 3
   },
   "file_extension": ".py",
   "mimetype": "text/x-python",
   "name": "python",
   "nbconvert_exporter": "python",
   "pygments_lexer": "ipython3",
   "version": "3.7.6"
  }
 },
 "nbformat": 4,
 "nbformat_minor": 5
}
